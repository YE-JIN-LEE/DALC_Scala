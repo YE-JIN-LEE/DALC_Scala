{
  "nbformat": 4,
  "nbformat_minor": 0,
  "metadata": {
    "colab": {
      "name": "DALC_scalar8__빅데이터회귀분석.ipynb",
      "provenance": [],
      "collapsed_sections": [
        "LEpgg6MllqlP",
        "4ktdw0WEO16Y"
      ],
      "include_colab_link": true
    },
    "kernelspec": {
      "name": "python3",
      "display_name": "Python 3"
    },
    "language_info": {
      "name": "python"
    }
  },
  "cells": [
    {
      "cell_type": "markdown",
      "metadata": {
        "id": "view-in-github",
        "colab_type": "text"
      },
      "source": [
        "<a href=\"https://colab.research.google.com/github/YE-JIN-LEE/DALC_Scala/blob/main/DALC_scalar8__%EB%B9%85%EB%8D%B0%EC%9D%B4%ED%84%B0%ED%9A%8C%EA%B7%80%EB%B6%84%EC%84%9D.ipynb\" target=\"_parent\"><img src=\"https://colab.research.google.com/assets/colab-badge.svg\" alt=\"Open In Colab\"/></a>"
      ]
    },
    {
      "cell_type": "markdown",
      "metadata": {
        "id": "hUQY0a9AmQB1"
      },
      "source": [
        "# 주관식\n",
        "셀을 더블클릭해서  : 다음에 답을 입력하세요."
      ]
    },
    {
      "cell_type": "markdown",
      "metadata": {
        "id": "s0tu8WgkHe9n"
      },
      "source": [
        "* 데이터표현방법 중 가로세로는 각각 무엇을 뜻하는가:\n",
        "가로 : 변수, 세로 : 객체"
      ]
    },
    {
      "cell_type": "markdown",
      "metadata": {
        "id": "6nQsARbhNrvK"
      },
      "source": [
        "* scikit learn api설계 기본원칙에는 무엇이 있나: 일관성, 검사, 제한된 계층 구조, 구성, 합리적 기본"
      ]
    },
    {
      "cell_type": "markdown",
      "metadata": {
        "id": "O7Cz3tPHMFq8"
      },
      "source": [
        "* Sickit-learn에서 특징행렬과 대상행렬의 차원은 각각 얼마인가: 2차원, 1차원"
      ]
    },
    {
      "cell_type": "markdown",
      "metadata": {
        "id": "5KnVjMiLWfEO"
      },
      "source": [
        "* sicikit-learn알고리즘은 공통적으로 사용하는 메소드는 무엇인가: 파이프라인"
      ]
    },
    {
      "cell_type": "markdown",
      "metadata": {
        "id": "ycg1GGhLGFqF"
      },
      "source": [
        "* \"선형회귀 분석의 정확도는 R제곱값을 계산하여 표시하며 1에 (가까운값/ 멀리있는 값)을 나타낼 수록 모델의 정확도가 높다고 판단합니다\": 가까운 값"
      ]
    },
    {
      "cell_type": "markdown",
      "metadata": {
        "id": "CxQ1lM7hG7IU"
      },
      "source": [
        "* 동일한 머신러닝 모델일지라도 ?를 다르게 설정하면 성격이 다른 모델이 만들어집니다.: 입력변수"
      ]
    },
    {
      "cell_type": "markdown",
      "metadata": {
        "id": "ZPLYsr50N48B"
      },
      "source": [
        "# 회귀분석"
      ]
    },
    {
      "cell_type": "markdown",
      "metadata": {
        "id": "pSeljp9aWIsn"
      },
      "source": [
        "### Scikit learn Api"
      ]
    },
    {
      "cell_type": "markdown",
      "metadata": {
        "id": "H0vQPFbZD9nu"
      },
      "source": [
        "* seaborn패키지를 별칭 sns로 임포트"
      ]
    },
    {
      "cell_type": "code",
      "metadata": {
        "id": "E8u2sLMVNsbW"
      },
      "source": [
        "import seaborn as sns"
      ],
      "execution_count": 1,
      "outputs": []
    },
    {
      "cell_type": "markdown",
      "metadata": {
        "id": "ZodJYDhY_k5A"
      },
      "source": [
        "* seaborn의 iris 데이터셋 로드"
      ]
    },
    {
      "cell_type": "code",
      "metadata": {
        "id": "8NHb_3yTGXk8"
      },
      "source": [
        "iris = sns.load_dataset('iris')"
      ],
      "execution_count": 2,
      "outputs": []
    },
    {
      "cell_type": "markdown",
      "metadata": {
        "id": "p_5uwi8CHNKW"
      },
      "source": [
        "* matplotlib.pyplot as plt를 임포트\n",
        "\n",
        "  numpy as np를 임포트"
      ]
    },
    {
      "cell_type": "code",
      "metadata": {
        "id": "7gRJmswLmrzq"
      },
      "source": [
        "import matplotlib.pyplot as plt\n",
        "import numpy as np"
      ],
      "execution_count": 4,
      "outputs": []
    },
    {
      "cell_type": "markdown",
      "metadata": {
        "id": "UqtK_hJjArav"
      },
      "source": [
        "*  0과 1사이의 난수를 50개 생성하고 10을 곱하는 특징변수x를 생성\n",
        "\n",
        "(rng변수: numpy로 생성된 난수)"
      ]
    },
    {
      "cell_type": "code",
      "metadata": {
        "id": "vHp-kJ5vmr-u"
      },
      "source": [
        "rng = np.random.RandomState(42)\n",
        "x=10*rng.rand(50)"
      ],
      "execution_count": 5,
      "outputs": []
    },
    {
      "cell_type": "markdown",
      "metadata": {
        "id": "mt_eg4AlI-2s"
      },
      "source": [
        "* x에 2 를 곱하고 표준 정규분포를 따르는 난수를(rng.randn(50) 더한 대상변수y생성"
      ]
    },
    {
      "cell_type": "code",
      "metadata": {
        "id": "3wcQvP_EI3Yc"
      },
      "source": [
        "y=2*x-1+rng.randn(50)"
      ],
      "execution_count": 6,
      "outputs": []
    },
    {
      "cell_type": "markdown",
      "metadata": {
        "id": "_qM7c0PCJsVB"
      },
      "source": [
        "* x와y 산점도 분석"
      ]
    },
    {
      "cell_type": "code",
      "metadata": {
        "id": "Y6IqwzzbpA7K",
        "colab": {
          "base_uri": "https://localhost:8080/",
          "height": 282
        },
        "outputId": "0a2f0578-179a-4750-cbed-f953a186c0fe"
      },
      "source": [
        "plt.scatter(x,y)"
      ],
      "execution_count": 7,
      "outputs": [
        {
          "output_type": "execute_result",
          "data": {
            "text/plain": [
              "<matplotlib.collections.PathCollection at 0x7fd2d9645b10>"
            ]
          },
          "metadata": {
            "tags": []
          },
          "execution_count": 7
        },
        {
          "output_type": "display_data",
          "data": {
            "image/png": "[encoded data removed]",
            "text/plain": [
              "<Figure size 432x288 with 1 Axes>"
            ]
          },
          "metadata": {
            "tags": [],
            "needs_background": "light"
          }
        }
      ]
    },
    {
      "cell_type": "markdown",
      "metadata": {
        "id": "x3-9VHZbSsu5"
      },
      "source": [
        "### 회귀분석 과정-모델 클래스 선택"
      ]
    },
    {
      "cell_type": "code",
      "metadata": {
        "id": "ZLB4WiwfSsvC"
      },
      "source": [
        "from sklearn.linear_model import LinearRegression"
      ],
      "execution_count": 8,
      "outputs": []
    },
    {
      "cell_type": "markdown",
      "metadata": {
        "id": "zXi9JehJLzzC"
      },
      "source": [
        "###모델 초모수 선택"
      ]
    },
    {
      "cell_type": "markdown",
      "metadata": {
        "id": "fRJOrXBQCjyd"
      },
      "source": [
        "*  LinearRegression 클래스에 절편 옵션을 사용하는 model 인스턴스를 생성하는 변수 model생성"
      ]
    },
    {
      "cell_type": "code",
      "metadata": {
        "id": "SDiypRdGpA1r"
      },
      "source": [
        "model = LinearRegression(fit_intercept=True)"
      ],
      "execution_count": 9,
      "outputs": []
    },
    {
      "cell_type": "markdown",
      "metadata": {
        "id": "veju4mmRMgmx"
      },
      "source": [
        "* 넘파이의 newacis를 이용하여 1차원 데이터 생성하여 변수 X의 저장"
      ]
    },
    {
      "cell_type": "code",
      "metadata": {
        "id": "zoC3coUxpApz"
      },
      "source": [
        "X = x[:,np.newaxis]"
      ],
      "execution_count": 10,
      "outputs": []
    },
    {
      "cell_type": "markdown",
      "metadata": {
        "id": "KW7fLJ8eMjKZ"
      },
      "source": [
        "* 넘파이의 reshape를 이용하여 50x1인1차원 데이터 생성"
      ]
    },
    {
      "cell_type": "code",
      "metadata": {
        "id": "x06fkqr0VtJT"
      },
      "source": [
        "X = x.reshape(50,1)"
      ],
      "execution_count": 11,
      "outputs": []
    },
    {
      "cell_type": "markdown",
      "metadata": {
        "id": "U56XiDtTMpCq"
      },
      "source": [
        "### 모델에 데이터 적용\n"
      ]
    },
    {
      "cell_type": "markdown",
      "metadata": {
        "id": "ARkcGajVEcJ2"
      },
      "source": [
        "* 특징배열 X와 대상변수y를 fit메소드를 이용하여 모델"
      ]
    },
    {
      "cell_type": "code",
      "metadata": {
        "id": "julPwkbal-5w",
        "colab": {
          "base_uri": "https://localhost:8080/"
        },
        "outputId": "34b8e76b-ccd3-4228-fbec-9249b720fda0"
      },
      "source": [
        "model.fit(X,y)"
      ],
      "execution_count": 12,
      "outputs": [
        {
          "output_type": "execute_result",
          "data": {
            "text/plain": [
              "LinearRegression(copy_X=True, fit_intercept=True, n_jobs=None, normalize=False)"
            ]
          },
          "metadata": {
            "tags": []
          },
          "execution_count": 12
        }
      ]
    },
    {
      "cell_type": "markdown",
      "metadata": {
        "id": "g5Hetg75aMch"
      },
      "source": [
        "*  특징 행렬의 변수에 대한 계수값확인"
      ]
    },
    {
      "cell_type": "code",
      "metadata": {
        "id": "SrVUy7LTZ9wZ",
        "colab": {
          "base_uri": "https://localhost:8080/"
        },
        "outputId": "5c9c482e-ef72-4a5e-a5e2-b00a89b59a7c"
      },
      "source": [
        "print(model.coef_)"
      ],
      "execution_count": 13,
      "outputs": [
        {
          "output_type": "stream",
          "text": [
            "[1.9776566]\n"
          ],
          "name": "stdout"
        }
      ]
    },
    {
      "cell_type": "markdown",
      "metadata": {
        "id": "alJg_1dZanBU"
      },
      "source": [
        "* 특징행렬의 변수에 대한 절편값 확인"
      ]
    },
    {
      "cell_type": "code",
      "metadata": {
        "id": "37a_XyCFamNX",
        "colab": {
          "base_uri": "https://localhost:8080/"
        },
        "outputId": "7050ce2a-db20-4445-85f1-af38551257d4"
      },
      "source": [
        "print(model.intercept_)"
      ],
      "execution_count": 14,
      "outputs": [
        {
          "output_type": "stream",
          "text": [
            "-0.9033107255311146\n"
          ],
          "name": "stdout"
        }
      ]
    },
    {
      "cell_type": "markdown",
      "metadata": {
        "id": "qXpe7lBWaY6U"
      },
      "source": [
        "*  모델의 정확도 확인"
      ]
    },
    {
      "cell_type": "code",
      "metadata": {
        "id": "WRn4_EQNab0M",
        "colab": {
          "base_uri": "https://localhost:8080/"
        },
        "outputId": "5c3ac9da-0fa0-4b35-ef29-0be05d14c299"
      },
      "source": [
        "model.score(X,y)"
      ],
      "execution_count": 15,
      "outputs": [
        {
          "output_type": "execute_result",
          "data": {
            "text/plain": [
              "0.9749140085676858"
            ]
          },
          "metadata": {
            "tags": []
          },
          "execution_count": 15
        }
      ]
    },
    {
      "cell_type": "markdown",
      "metadata": {
        "id": "DY8egKYQavl3"
      },
      "source": [
        "#### 최적의 모델 선택-편합분산 트레이드 오프\n"
      ]
    },
    {
      "cell_type": "markdown",
      "metadata": {
        "id": "Knynl6-PJMNW"
      },
      "source": [
        "* matplotlibpyplot as plt를 임포트, seaborn과 seaborn.set()임포트\n",
        "\n",
        "* x축의 범위를 (-0.1,1)y축의 범위를 (1,500)으로 한 특징변수X와 대상변수y의 변수의 산점도를 그려라"
      ]
    },
    {
      "cell_type": "code",
      "metadata": {
        "id": "aub_wxpJbEG2",
        "colab": {
          "base_uri": "https://localhost:8080/",
          "height": 282
        },
        "outputId": "ebf207ab-aebf-4679-a241-04eabf61fdfa"
      },
      "source": [
        "xfit = np.linspace(-1, 11)\n",
        "plt.scatter(x,y)\n",
        "plt.plot(xfit, model.coef_*xfit + model.intercept_, '-r')"
      ],
      "execution_count": 17,
      "outputs": [
        {
          "output_type": "execute_result",
          "data": {
            "text/plain": [
              "[<matplotlib.lines.Line2D at 0x7fd2d1c9a610>]"
            ]
          },
          "metadata": {
            "tags": []
          },
          "execution_count": 17
        },
        {
          "output_type": "display_data",
          "data": {
            "image/png": "[encoded data removed]",
            "text/plain": [
              "<Figure size 432x288 with 1 Axes>"
            ]
          },
          "metadata": {
            "tags": [],
            "needs_background": "light"
          }
        }
      ]
    },
    {
      "cell_type": "markdown",
      "metadata": {
        "id": "xharyGBsOEqC"
      },
      "source": [
        "## 다항식 회귀모델"
      ]
    },
    {
      "cell_type": "markdown",
      "metadata": {
        "id": "g7Ibz3EnKFOR"
      },
      "source": [
        "* 파이프라인:전처리 프로그램과 선형회귀모델을 묶어주는 프로그램"
      ]
    },
    {
      "cell_type": "code",
      "metadata": {
        "id": "MiXr_ycxamDZ"
      },
      "source": [
        "from sklearn.preprocessing import PolynomialFeatures\n",
        "from sklearn.linear_model import LinearRegression \n",
        "from sklearn.pipeline import make_pipeline \n",
        "def PolynomialRegression(degree=2, **kwargs): return make_pipeline(PolynomialFeatures(degree), LinearRegression (**kwargs))"
      ],
      "execution_count": 18,
      "outputs": []
    },
    {
      "cell_type": "markdown",
      "metadata": {
        "id": "_hFLRAXVa2Xp"
      },
      "source": [
        "* 데이터생성"
      ]
    },
    {
      "cell_type": "code",
      "metadata": {
        "id": "IYNO2wWaakKH"
      },
      "source": [
        "import numpy as np \n",
        "def make_data(N, err=1.0, rseed=1) :\n",
        "  rng = np.random.RandomState(rseed) \n",
        "  X=rng.rand(N) ** 2 \n",
        "  y = 10-1./(X+0.1) \n",
        "  if err>0:\n",
        "    y+=err*rng.randn(N)\n",
        "    return X,y\n",
        "X,y=make_data(40) "
      ],
      "execution_count": 19,
      "outputs": []
    },
    {
      "cell_type": "markdown",
      "metadata": {
        "id": "_t3jDNz2a9l-"
      },
      "source": [
        "* 데이터적합"
      ]
    },
    {
      "cell_type": "code",
      "metadata": {
        "colab": {
          "base_uri": "https://localhost:8080/",
          "height": 269
        },
        "id": "Qm1HkVEIa9l_",
        "outputId": "48a5f56a-b0b3-4c8c-947d-b02007052423"
      },
      "source": [
        "import matplotlib.pyplot as plt\n",
        "X_test=np.linspace(-0.1, 1.1, 500) \n",
        "plt.scatter(X, y, color='black')\n",
        "for degree in [1,2,3]:\n",
        "  model = PolynomialRegression(degree) \n",
        "  model.fit(X[:, np.newaxis],y) \n",
        "  y_test=model.predict(X_test[:,np.newaxis]) \n",
        "  plt.plot(X_test, y_test, label=f'Degree={degree}') \n",
        "plt.axis([-0.1, 1.0, -2, 12]) \n",
        "plt.legend(loc='best'); "
      ],
      "execution_count": 20,
      "outputs": [
        {
          "output_type": "display_data",
          "data": {
            "image/png": "[encoded data removed]",
            "text/plain": [
              "<Figure size 432x288 with 1 Axes>"
            ]
          },
          "metadata": {
            "tags": [],
            "needs_background": "light"
          }
        }
      ]
    }
  ]
}