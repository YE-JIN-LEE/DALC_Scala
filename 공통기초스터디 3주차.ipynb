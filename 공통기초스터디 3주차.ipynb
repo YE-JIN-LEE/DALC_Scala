{
 "cells": [
  {
   "cell_type": "markdown",
   "metadata": {},
   "source": [
    "# 1.빅데이터 분석 및 처리\n",
    "\n",
    "## 빅데이터\n",
    "- 관계형 데이터베이스 관리 시스템(RDBMS; Relational Database Management Systems)과 같은\n",
    "  전통적 데이터 관리 기법으로 다루기 힘든 데이터\n",
    "  \n",
    "## R\n",
    "- 통계 계산과 그래픽을 위한 프로그래밍 언어이자 소프트웨어 환경\n",
    "- 다양한 통계 기법과 수치 해석 기법 지원\n",
    "\n",
    "## python\n",
    "- 이해하기 쉽고 유연한 문법\n",
    "- 연산능력을 극대화 시켜주는 오프소스 라이브러리(모듈)가 풍부\n",
    "- 대용량 데이터 세트의 분석과 처리에 유연성을 가짐\n",
    "- 다양한 패키지가 목적에 맞게 개발\n",
    "\n",
    "  ### Numpy : 동일한 데이터 타입을 가진 배열 기반의 데이터 처리\n",
    "  ### Pandas : data frame 형태로 데이터를 다룸\n",
    "  ### Scipy : 과학 계산 작업\n",
    "  ### Mataplotib : 데이터 시각화\n",
    "  ### Scikit-Learn : 머신러닝\n",
    "      "
   ]
  },
  {
   "cell_type": "markdown",
   "metadata": {},
   "source": [
    "# 2.데이터 저장 및 가공\n",
    "\n",
    "## 데이터 분석\n",
    "- 숫자 배열을 효율적으로 저장하고 가공하는 것은 빅데이터 분석을 위한 기본 절차\n",
    "- 숫자 배열을 전문적으로 다루는 Numpy 패키지 필요"
   ]
  },
  {
   "cell_type": "markdown",
   "metadata": {},
   "source": [
    "# 3.Numpy 패키지\n",
    "\n",
    "## 넘파이(Numerical Python)\n",
    "- 벡터 및 행렬 연산에 유용한 기능 제공\n",
    "- 빅데이터 분석을 위해 사용되는 라이브러리\n",
    "- pandas와 matplotlib에서 기본으로 사용되는 패키지\n",
    "\n",
    "- arry(:동일한 데이터 타입을 갖는 벡터나 행렬) 단위로 데이터 관리 및 연산 수행\n",
    "- 배열 규모가 커질수록 데이터 자장 및 처리에 효율적"
   ]
  },
  {
   "cell_type": "markdown",
   "metadata": {},
   "source": [
    "# 4.행렬 생성"
   ]
  },
  {
   "cell_type": "code",
   "execution_count": 1,
   "metadata": {},
   "outputs": [
    {
     "name": "stdout",
     "output_type": "stream",
     "text": [
      "[1, 2, 3, 4, 5] [6, 5, 4, 3, 2, 1]\n"
     ]
    }
   ],
   "source": [
    "import numpy as np\n",
    "\n",
    "data1 = [1,2,3,4,5]\n",
    "data2 = [6,5,4,3,2,1]\n",
    "print(data1, data2)"
   ]
  },
  {
   "cell_type": "code",
   "execution_count": 2,
   "metadata": {},
   "outputs": [
    {
     "data": {
      "text/plain": [
       "array([1, 2, 3, 4, 5])"
      ]
     },
     "execution_count": 2,
     "metadata": {},
     "output_type": "execute_result"
    }
   ],
   "source": [
    "ar1 = np.array(data1)\n",
    "ar1"
   ]
  },
  {
   "cell_type": "code",
   "execution_count": 5,
   "metadata": {},
   "outputs": [
    {
     "data": {
      "text/plain": [
       "array([1., 2., 3., 4., 5.])"
      ]
     },
     "execution_count": 5,
     "metadata": {},
     "output_type": "execute_result"
    }
   ],
   "source": [
    "ar2 = np.array(data1, dtype = 'float')\n",
    "ar2"
   ]
  },
  {
   "cell_type": "code",
   "execution_count": 6,
   "metadata": {},
   "outputs": [
    {
     "data": {
      "text/plain": [
       "array([[1, 2, 3],\n",
       "       [2, 3, 4],\n",
       "       [3, 4, 5],\n",
       "       [4, 5, 6],\n",
       "       [5, 6, 7]])"
      ]
     },
     "execution_count": 6,
     "metadata": {},
     "output_type": "execute_result"
    }
   ],
   "source": [
    "ar3 = np.array([range(i, i+3) for i in data1])\n",
    "ar3"
   ]
  },
  {
   "cell_type": "code",
   "execution_count": 7,
   "metadata": {},
   "outputs": [
    {
     "data": {
      "text/plain": [
       "array([[3.14, 3.14, 3.14, 3.14, 3.14],\n",
       "       [3.14, 3.14, 3.14, 3.14, 3.14],\n",
       "       [3.14, 3.14, 3.14, 3.14, 3.14]])"
      ]
     },
     "execution_count": 7,
     "metadata": {},
     "output_type": "execute_result"
    }
   ],
   "source": [
    "ar4 = np.full((3,5),3.14)\n",
    "ar4\n",
    "\n",
    "# full함수 ((행렬 크기), 지정 값)"
   ]
  },
  {
   "cell_type": "code",
   "execution_count": 9,
   "metadata": {},
   "outputs": [
    {
     "data": {
      "text/plain": [
       "array([ 0,  2,  4,  6,  8, 10, 12, 14, 16, 18])"
      ]
     },
     "execution_count": 9,
     "metadata": {},
     "output_type": "execute_result"
    }
   ],
   "source": [
    "ar5 = np.arange(0, 20, 2)\n",
    "ar5"
   ]
  },
  {
   "cell_type": "code",
   "execution_count": 10,
   "metadata": {},
   "outputs": [
    {
     "data": {
      "text/plain": [
       "array([0. , 0.5, 1. ])"
      ]
     },
     "execution_count": 10,
     "metadata": {},
     "output_type": "execute_result"
    }
   ],
   "source": [
    "ar6 = np.linspace(0, 1, 3)\n",
    "ar6\n",
    "\n",
    "# 0.5 간격의 3개 요소 값을 가진 배열 생성"
   ]
  },
  {
   "cell_type": "code",
   "execution_count": 11,
   "metadata": {},
   "outputs": [
    {
     "data": {
      "text/plain": [
       "array([[0.24952148, 0.68224458, 0.17152422],\n",
       "       [0.7461682 , 0.14056411, 0.52385612],\n",
       "       [0.41925453, 0.03431664, 0.64183744]])"
      ]
     },
     "execution_count": 11,
     "metadata": {},
     "output_type": "execute_result"
    }
   ],
   "source": [
    "ar7 = np.random.random((3,3))\n",
    "ar7\n",
    "\n",
    "# 3x3 행렬을 생성하고, 0과 1 사이의 무작위 값으로 채움"
   ]
  },
  {
   "cell_type": "code",
   "execution_count": 12,
   "metadata": {},
   "outputs": [
    {
     "data": {
      "text/plain": [
       "array([[ 0, 86, 29],\n",
       "       [42, 84, 79],\n",
       "       [62, 81, 74]])"
      ]
     },
     "execution_count": 12,
     "metadata": {},
     "output_type": "execute_result"
    }
   ],
   "source": [
    "ar8 = np.random.randint(0, 100, (3,3))\n",
    "ar8\n",
    "\n",
    "# 0과 100 사이, (구간의 시작, 구간의 끝)\n",
    "# (3,3)은 3x3 배열크기"
   ]
  },
  {
   "cell_type": "code",
   "execution_count": 13,
   "metadata": {},
   "outputs": [
    {
     "data": {
      "text/plain": [
       "array([[1., 0., 0.],\n",
       "       [0., 1., 0.],\n",
       "       [0., 0., 1.]])"
      ]
     },
     "execution_count": 13,
     "metadata": {},
     "output_type": "execute_result"
    }
   ],
   "source": [
    "ar9 = np.eye(3)\n",
    "ar9"
   ]
  },
  {
   "cell_type": "markdown",
   "metadata": {},
   "source": [
    "# 5.배열 분할, 재구성, 결합"
   ]
  },
  {
   "cell_type": "code",
   "execution_count": 15,
   "metadata": {},
   "outputs": [
    {
     "data": {
      "text/plain": [
       "array([[[5, 7, 3, 6, 1],\n",
       "        [6, 5, 5, 8, 1],\n",
       "        [4, 6, 3, 5, 7],\n",
       "        [1, 7, 9, 6, 2]],\n",
       "\n",
       "       [[7, 8, 6, 3, 0],\n",
       "        [2, 1, 4, 4, 6],\n",
       "        [0, 6, 9, 8, 6],\n",
       "        [7, 9, 9, 4, 6]],\n",
       "\n",
       "       [[2, 8, 1, 7, 3],\n",
       "        [1, 9, 8, 1, 4],\n",
       "        [8, 6, 0, 5, 6],\n",
       "        [9, 0, 8, 1, 4]]])"
      ]
     },
     "execution_count": 15,
     "metadata": {},
     "output_type": "execute_result"
    }
   ],
   "source": [
    "x = np.random.randint(10, size=(3,4,5))\n",
    "x"
   ]
  },
  {
   "cell_type": "code",
   "execution_count": 16,
   "metadata": {},
   "outputs": [
    {
     "name": "stdout",
     "output_type": "stream",
     "text": [
      "x ndim: 3\n",
      "x shape: (3, 4, 5)\n",
      "x size: 60\n"
     ]
    }
   ],
   "source": [
    "print(\"x ndim:\", x.ndim) # 차원의 개수\n",
    "print(\"x shape:\", x.shape) # 차원의 크기\n",
    "print(\"x size:\", x.size) # 전체 배열 크기"
   ]
  },
  {
   "cell_type": "code",
   "execution_count": 17,
   "metadata": {},
   "outputs": [
    {
     "name": "stdout",
     "output_type": "stream",
     "text": [
      "2 8\n"
     ]
    }
   ],
   "source": [
    "y = np.array([2,4,6,8,10])\n",
    "print(y[0], y[-2])"
   ]
  },
  {
   "cell_type": "code",
   "execution_count": 19,
   "metadata": {},
   "outputs": [
    {
     "name": "stdout",
     "output_type": "stream",
     "text": [
      "3\n"
     ]
    }
   ],
   "source": [
    "z = np.array([[2,4,6,8,10], [3,6,9,12,15]])\n",
    "print(z[1,0])"
   ]
  },
  {
   "cell_type": "code",
   "execution_count": 20,
   "metadata": {},
   "outputs": [
    {
     "data": {
      "text/plain": [
       "array([[12,  4,  6,  8, 10],\n",
       "       [ 3,  6,  9, 12, 15]])"
      ]
     },
     "execution_count": 20,
     "metadata": {},
     "output_type": "execute_result"
    }
   ],
   "source": [
    "z[0,0] = 12\n",
    "z"
   ]
  }
 ],
 "metadata": {
  "kernelspec": {
   "display_name": "Python 3",
   "language": "python",
   "name": "python3"
  },
  "language_info": {
   "codemirror_mode": {
    "name": "ipython",
    "version": 3
   },
   "file_extension": ".py",
   "mimetype": "text/x-python",
   "name": "python",
   "nbconvert_exporter": "python",
   "pygments_lexer": "ipython3",
   "version": "3.7.6"
  }
 },
 "nbformat": 4,
 "nbformat_minor": 4
}
