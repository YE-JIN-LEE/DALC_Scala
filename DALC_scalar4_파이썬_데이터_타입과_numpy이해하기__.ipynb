{
  "nbformat": 4,
  "nbformat_minor": 0,
  "metadata": {
    "colab": {
      "name": "DALC_scalar4_파이썬_데이터_타입과_numpy이해하기__.ipynb",
      "provenance": [],
      "collapsed_sections": [],
      "include_colab_link": true
    },
    "kernelspec": {
      "name": "python3",
      "display_name": "Python 3"
    },
    "language_info": {
      "name": "python"
    }
  },
  "cells": [
    {
      "cell_type": "markdown",
      "metadata": {
        "id": "view-in-github",
        "colab_type": "text"
      },
      "source": [
        "<a href=\"https://colab.research.google.com/github/YE-JIN-LEE/DALC_Scala/blob/main/DALC_scalar4_%ED%8C%8C%EC%9D%B4%EC%8D%AC_%EB%8D%B0%EC%9D%B4%ED%84%B0_%ED%83%80%EC%9E%85%EA%B3%BC_numpy%EC%9D%B4%ED%95%B4%ED%95%98%EA%B8%B0__.ipynb\" target=\"_parent\"><img src=\"https://colab.research.google.com/assets/colab-badge.svg\" alt=\"Open In Colab\"/></a>"
      ]
    },
    {
      "cell_type": "markdown",
      "metadata": {
        "id": "giYnypId9JKA"
      },
      "source": [
        "# Numpy 기초"
      ]
    },
    {
      "cell_type": "markdown",
      "metadata": {
        "id": "mMuPNu735nzw"
      },
      "source": [
        "## 넘파이 패키지 불러오기"
      ]
    },
    {
      "cell_type": "code",
      "metadata": {
        "id": "R86NUr6E6IxC"
      },
      "source": [
        "# 넘파이 패키지를 불러오기 np로 줄여쓰기# 넘파이 패키지를 불러오기 np로 줄여쓰기\n",
        "\n",
        "import numpy as np"
      ],
      "execution_count": 1,
      "outputs": []
    },
    {
      "cell_type": "markdown",
      "metadata": {
        "id": "zYd86L6l6LR_"
      },
      "source": [
        "## array 정의 및 생성"
      ]
    },
    {
      "cell_type": "code",
      "metadata": {
        "id": "iYL2w7ZH6OvI",
        "colab": {
          "base_uri": "https://localhost:8080/"
        },
        "outputId": "604203e1-a789-42fb-b6b1-154a2572cb4e"
      },
      "source": [
        "# 넘파이 array를 사용하여 a라는 변수에 1부터 10까지의 숫자 리스트 배열을 생성하기\n",
        "\n",
        "data = [1,2,3,4,5,6,7,8,9,10]\n",
        "a = np.array(data)\n",
        "a"
      ],
      "execution_count": 3,
      "outputs": [
        {
          "output_type": "execute_result",
          "data": {
            "text/plain": [
              "array([ 1,  2,  3,  4,  5,  6,  7,  8,  9, 10])"
            ]
          },
          "metadata": {
            "tags": []
          },
          "execution_count": 3
        }
      ]
    },
    {
      "cell_type": "code",
      "metadata": {
        "id": "WUOwTypoBPRC",
        "colab": {
          "base_uri": "https://localhost:8080/"
        },
        "outputId": "cea4ef3f-14f9-4bd6-9525-df7a0af428e7"
      },
      "source": [
        "#파이썬의 기본 range 함수와 비슷한 넘파이 range 함수를 사용하여 ndarray를 만들 수 있습니다:\n",
        "\n",
        "aa = np.array([range(i, i+3) for i in data])\n",
        "aa"
      ],
      "execution_count": 4,
      "outputs": [
        {
          "output_type": "execute_result",
          "data": {
            "text/plain": [
              "array([[ 1,  2,  3],\n",
              "       [ 2,  3,  4],\n",
              "       [ 3,  4,  5],\n",
              "       [ 4,  5,  6],\n",
              "       [ 5,  6,  7],\n",
              "       [ 6,  7,  8],\n",
              "       [ 7,  8,  9],\n",
              "       [ 8,  9, 10],\n",
              "       [ 9, 10, 11],\n",
              "       [10, 11, 12]])"
            ]
          },
          "metadata": {
            "tags": []
          },
          "execution_count": 4
        }
      ]
    },
    {
      "cell_type": "markdown",
      "metadata": {
        "id": "FOK4pK-I6pDn"
      },
      "source": [
        "## 배열 구성"
      ]
    },
    {
      "cell_type": "code",
      "metadata": {
        "id": "ocsVMvGT6rcJ",
        "colab": {
          "base_uri": "https://localhost:8080/"
        },
        "outputId": "6d66598c-2dc3-4ab5-b635-a43917dc8ab2"
      },
      "source": [
        "# full 함수를 사용하여 b라는 변수에 2.71 수로 3 X 4 다차원 배열 만들기\n",
        "\n",
        "b = np.full((3,4), 2.71)\n",
        "b"
      ],
      "execution_count": 5,
      "outputs": [
        {
          "output_type": "execute_result",
          "data": {
            "text/plain": [
              "array([[2.71, 2.71, 2.71, 2.71],\n",
              "       [2.71, 2.71, 2.71, 2.71],\n",
              "       [2.71, 2.71, 2.71, 2.71]])"
            ]
          },
          "metadata": {
            "tags": []
          },
          "execution_count": 5
        }
      ]
    },
    {
      "cell_type": "code",
      "metadata": {
        "id": "ReJJ53HV6_5k",
        "colab": {
          "base_uri": "https://localhost:8080/"
        },
        "outputId": "38c1a648-e7e2-4d2c-e225-6c7c2784e88b"
      },
      "source": [
        "# arrange 함수를 사용하여 c라는 변수에 0부터 10까지 짝수만 있는 배열 구성하기\n",
        "\n",
        "c = np.arange(0, 10, 2)\n",
        "c"
      ],
      "execution_count": 6,
      "outputs": [
        {
          "output_type": "execute_result",
          "data": {
            "text/plain": [
              "array([0, 2, 4, 6, 8])"
            ]
          },
          "metadata": {
            "tags": []
          },
          "execution_count": 6
        }
      ]
    },
    {
      "cell_type": "code",
      "metadata": {
        "id": "UiHHzUCn7ak9",
        "colab": {
          "base_uri": "https://localhost:8080/"
        },
        "outputId": "aa062c00-c3c2-44b5-b407-8e91b89f4bf2"
      },
      "source": [
        "# linespace 함수를 사용하여 d라는 변수에 0부터 1까지 4개 요소 값을 가진 배열 생성하기\n",
        "\n",
        "d = np.linspace(0,1,4)\n",
        "d"
      ],
      "execution_count": 8,
      "outputs": [
        {
          "output_type": "execute_result",
          "data": {
            "text/plain": [
              "array([0.        , 0.33333333, 0.66666667, 1.        ])"
            ]
          },
          "metadata": {
            "tags": []
          },
          "execution_count": 8
        }
      ]
    },
    {
      "cell_type": "code",
      "metadata": {
        "id": "cgqpObYO7m_o",
        "colab": {
          "base_uri": "https://localhost:8080/"
        },
        "outputId": "5a004e3c-5946-444f-e4d8-3c1423e2502f"
      },
      "source": [
        "# randint 함수를 사용하여 0 부터 100까지 수를 2 X 2 배열로 생성하기\n",
        "\n",
        "e = np.random.randint(0,100, (2,2))\n",
        "e"
      ],
      "execution_count": 9,
      "outputs": [
        {
          "output_type": "execute_result",
          "data": {
            "text/plain": [
              "array([[ 8, 87],\n",
              "       [75, 18]])"
            ]
          },
          "metadata": {
            "tags": []
          },
          "execution_count": 9
        }
      ]
    },
    {
      "cell_type": "markdown",
      "metadata": {
        "id": "gmqrBmjV8I_q"
      },
      "source": [
        "## 배열 인덱싱"
      ]
    },
    {
      "cell_type": "code",
      "metadata": {
        "id": "u1YDX-907tCM",
        "colab": {
          "base_uri": "https://localhost:8080/"
        },
        "outputId": "5bf03d26-c387-46b6-ddef-bbaffb650cd1"
      },
      "source": [
        "# a변수에서 인덱스 2 (앞에서 3번째) 와 인덱스 -3 (뒤에서 3번째)에 해당하는 수 가져오기\n",
        "\n",
        "print(a[2], a[-3])"
      ],
      "execution_count": 10,
      "outputs": [
        {
          "output_type": "stream",
          "text": [
            "3 8\n"
          ],
          "name": "stdout"
        }
      ]
    },
    {
      "cell_type": "code",
      "metadata": {
        "id": "09OUlcP98IFO",
        "colab": {
          "base_uri": "https://localhost:8080/"
        },
        "outputId": "10647d55-35c3-4741-c4a7-ecd5a8a91e5c"
      },
      "source": [
        "# a 변수에서 인덱스 3부터 9 까지 슬라이싱하기\n",
        "print(a[3:9])"
      ],
      "execution_count": 12,
      "outputs": [
        {
          "output_type": "stream",
          "text": [
            "[4 5 6 7 8 9]\n"
          ],
          "name": "stdout"
        }
      ]
    },
    {
      "cell_type": "markdown",
      "metadata": {
        "id": "B7ZsYxD-9BDG"
      },
      "source": [
        "## 배열 재구조화"
      ]
    },
    {
      "cell_type": "code",
      "metadata": {
        "id": "OUDkKScoFwID",
        "colab": {
          "base_uri": "https://localhost:8080/"
        },
        "outputId": "4d6898e4-df22-44ac-e24a-2ea2de1bc1be"
      },
      "source": [
        "#차원의 개수 알아보는 함수\n",
        "\n",
        "print(a.ndim)"
      ],
      "execution_count": 14,
      "outputs": [
        {
          "output_type": "stream",
          "text": [
            "1\n"
          ],
          "name": "stdout"
        }
      ]
    },
    {
      "cell_type": "code",
      "metadata": {
        "id": "BAXVPoxoFwUD",
        "colab": {
          "base_uri": "https://localhost:8080/"
        },
        "outputId": "c4702de8-5bc9-4298-fe37-d42e800df6d3"
      },
      "source": [
        "#차원의 크기 알아보는 함수\n",
        "\n",
        "print(a.shape)"
      ],
      "execution_count": 15,
      "outputs": [
        {
          "output_type": "stream",
          "text": [
            "(10,)\n"
          ],
          "name": "stdout"
        }
      ]
    },
    {
      "cell_type": "code",
      "metadata": {
        "id": "lNaAPxjqGc8f",
        "colab": {
          "base_uri": "https://localhost:8080/"
        },
        "outputId": "e8425041-d309-4810-b170-eb341a66f1b8"
      },
      "source": [
        "#전체 배열크기 알아보는 함수\n",
        "\n",
        "print(a.size)"
      ],
      "execution_count": 16,
      "outputs": [
        {
          "output_type": "stream",
          "text": [
            "10\n"
          ],
          "name": "stdout"
        }
      ]
    },
    {
      "cell_type": "code",
      "metadata": {
        "id": "LpmpluGdGG8T",
        "colab": {
          "base_uri": "https://localhost:8080/"
        },
        "outputId": "95559b5d-946e-4aaf-bf0a-f93905b90747"
      },
      "source": [
        "#0부터10까지 정수를 가진 x변수에서 4~7까지의 요소를 가진 하위배열생성\n",
        "\n",
        "x = np.arange(10)\n",
        "x[4:7]"
      ],
      "execution_count": 17,
      "outputs": [
        {
          "output_type": "execute_result",
          "data": {
            "text/plain": [
              "array([4, 5, 6])"
            ]
          },
          "metadata": {
            "tags": []
          },
          "execution_count": 17
        }
      ]
    },
    {
      "cell_type": "code",
      "metadata": {
        "id": "vosKsX6-GHD6",
        "colab": {
          "base_uri": "https://localhost:8080/"
        },
        "outputId": "a5b0ab7f-4c9f-4ff2-dd70-458acaee6eae"
      },
      "source": [
        "#0부터10까지 정수를 가진 x변수에서 첫번째 다섯 요소를 가진 하위 배열 생성\n",
        "\n",
        "x[:5]"
      ],
      "execution_count": 18,
      "outputs": [
        {
          "output_type": "execute_result",
          "data": {
            "text/plain": [
              "array([0, 1, 2, 3, 4])"
            ]
          },
          "metadata": {
            "tags": []
          },
          "execution_count": 18
        }
      ]
    },
    {
      "cell_type": "code",
      "metadata": {
        "id": "mEW2HOOSHBar",
        "colab": {
          "base_uri": "https://localhost:8080/"
        },
        "outputId": "f9cd04e9-b557-4d13-cf73-5b849993857c"
      },
      "source": [
        "#0부터10까지 정수를 가진 x변수에서 인덱스 5 이후의 요소를 가진 하위 배열을 생성\n",
        "\n",
        "x[5:]"
      ],
      "execution_count": 19,
      "outputs": [
        {
          "output_type": "execute_result",
          "data": {
            "text/plain": [
              "array([5, 6, 7, 8, 9])"
            ]
          },
          "metadata": {
            "tags": []
          },
          "execution_count": 19
        }
      ]
    },
    {
      "cell_type": "code",
      "metadata": {
        "id": "TD0eKXKOHFiq",
        "colab": {
          "base_uri": "https://localhost:8080/"
        },
        "outputId": "0e809cc9-7923-4411-bd79-ffc165152aaf"
      },
      "source": [
        "# 인덱스 0,1행과 인덱스 0,1,2열 즉 2행3열인 다차원 하위 배열 생성(콤마이용하기)\n",
        "\n",
        "z = np.array([[2,4,6,8], [3,6,9,12], [4,8,12,16]])\n",
        "z[:2, :3]"
      ],
      "execution_count": 20,
      "outputs": [
        {
          "output_type": "execute_result",
          "data": {
            "text/plain": [
              "array([[2, 4, 6],\n",
              "       [3, 6, 9]])"
            ]
          },
          "metadata": {
            "tags": []
          },
          "execution_count": 20
        }
      ]
    },
    {
      "cell_type": "code",
      "metadata": {
        "id": "uqvnK_MqHSjX",
        "colab": {
          "base_uri": "https://localhost:8080/"
        },
        "outputId": "1266576b-ff88-4778-a191-19c01bd70a4b"
      },
      "source": [
        "#1부터 10까지 배열을 3행3열로 재배열하기(reshape사용)\n",
        "\n",
        "zz = np.arange(1,10).reshape(3,3)\n",
        "zz"
      ],
      "execution_count": 21,
      "outputs": [
        {
          "output_type": "execute_result",
          "data": {
            "text/plain": [
              "array([[1, 2, 3],\n",
              "       [4, 5, 6],\n",
              "       [7, 8, 9]])"
            ]
          },
          "metadata": {
            "tags": []
          },
          "execution_count": 21
        }
      ]
    },
    {
      "cell_type": "markdown",
      "metadata": {
        "id": "Fe5b8TCo9CUi"
      },
      "source": [
        "## 배열 결합"
      ]
    },
    {
      "cell_type": "code",
      "metadata": {
        "id": "nkYF1XetHZFA",
        "colab": {
          "base_uri": "https://localhost:8080/"
        },
        "outputId": "23f7bc37-7b52-419a-f73a-8dad06d3e369"
      },
      "source": [
        "#두개의 배열 결합하기\n",
        "\n",
        "zzz = np.concatenate([a,c])\n",
        "zzz"
      ],
      "execution_count": 22,
      "outputs": [
        {
          "output_type": "execute_result",
          "data": {
            "text/plain": [
              "array([ 1,  2,  3,  4,  5,  6,  7,  8,  9, 10,  0,  2,  4,  6,  8])"
            ]
          },
          "metadata": {
            "tags": []
          },
          "execution_count": 22
        }
      ]
    },
    {
      "cell_type": "code",
      "metadata": {
        "id": "NObVaN04Hbt8",
        "colab": {
          "base_uri": "https://localhost:8080/"
        },
        "outputId": "308bfc34-8562-481d-a3e4-4f0090a0846c"
      },
      "source": [
        "#수직으로 두개의 배열 결합하기\n",
        "xx = np.array([1,2,3])\n",
        "grid = np.array([[4,5,6],[7,8,9]])\n",
        "v = np.vstack([xx, grid])\n",
        "v"
      ],
      "execution_count": 28,
      "outputs": [
        {
          "output_type": "execute_result",
          "data": {
            "text/plain": [
              "array([[1, 2, 3],\n",
              "       [4, 5, 6],\n",
              "       [7, 8, 9]])"
            ]
          },
          "metadata": {
            "tags": []
          },
          "execution_count": 28
        }
      ]
    },
    {
      "cell_type": "code",
      "metadata": {
        "id": "NFQ0_cEjHkCy",
        "colab": {
          "base_uri": "https://localhost:8080/"
        },
        "outputId": "31302a52-470b-4659-ec9d-e71022d35b1a"
      },
      "source": [
        "#수평으로 두개의 배열 결합하기\n",
        "y = np.array([[99], [99]])\n",
        "z = np.hstack([grid,y])\n",
        "z"
      ],
      "execution_count": 30,
      "outputs": [
        {
          "output_type": "execute_result",
          "data": {
            "text/plain": [
              "array([[ 4,  5,  6, 99],\n",
              "       [ 7,  8,  9, 99]])"
            ]
          },
          "metadata": {
            "tags": []
          },
          "execution_count": 30
        }
      ]
    },
    {
      "cell_type": "markdown",
      "metadata": {
        "id": "vNpmxjef9EiC"
      },
      "source": [
        "## 배열 분할"
      ]
    },
    {
      "cell_type": "code",
      "metadata": {
        "id": "XBu15lZ7Hxzu",
        "colab": {
          "base_uri": "https://localhost:8080/"
        },
        "outputId": "72016b4b-ba5b-49c8-eb2d-4fb051861267"
      },
      "source": [
        "#7개의 숫자를 가진 리스트 x를 3개의 변수 x1,x2,x3로 분할하기\n",
        "\n",
        "ss = [1,2,3,77,77,3,2,1]\n",
        "x1, x2, x3 = np.split(ss,[3,5])\n",
        "print(x1, x2, x3)"
      ],
      "execution_count": 34,
      "outputs": [
        {
          "output_type": "stream",
          "text": [
            "[1 2 3] [77 77] [3 2 1]\n"
          ],
          "name": "stdout"
        }
      ]
    },
    {
      "cell_type": "code",
      "metadata": {
        "id": "XdklCHyCHx75",
        "colab": {
          "base_uri": "https://localhost:8080/"
        },
        "outputId": "37545fb8-fa44-42bd-8003-85d6d07a94c8"
      },
      "source": [
        "#4행4열 차원을 배열이 상하 2개로 나누게 분할\n",
        "gg = np.arange(16).reshape((4,4))\n",
        "upper, lower=np.vsplit(gg, [2])\n",
        "print(upper)\n",
        "print(lower)"
      ],
      "execution_count": 35,
      "outputs": [
        {
          "output_type": "stream",
          "text": [
            "[[0 1 2 3]\n",
            " [4 5 6 7]]\n",
            "[[ 8  9 10 11]\n",
            " [12 13 14 15]]\n"
          ],
          "name": "stdout"
        }
      ]
    },
    {
      "cell_type": "markdown",
      "metadata": {
        "id": "dDE6Ap4n9S28"
      },
      "source": [
        "# Numpy 심화"
      ]
    },
    {
      "cell_type": "markdown",
      "metadata": {
        "id": "uH4cKovY9Whm"
      },
      "source": [
        "## 유니버셜함수"
      ]
    },
    {
      "cell_type": "code",
      "metadata": {
        "id": "4GAlLhUiAz13",
        "colab": {
          "base_uri": "https://localhost:8080/"
        },
        "outputId": "58354739-3173-44ed-8e53-12b93b5254f1"
      },
      "source": [
        "# zeros 함수는 0으로 채워진 배열을 만듭니다:\n",
        "np.zeros(5)"
      ],
      "execution_count": 55,
      "outputs": [
        {
          "output_type": "execute_result",
          "data": {
            "text/plain": [
              "array([0., 0., 0., 0., 0.])"
            ]
          },
          "metadata": {
            "tags": []
          },
          "execution_count": 55
        }
      ]
    },
    {
      "cell_type": "code",
      "metadata": {
        "id": "3vxe2YivA18-",
        "colab": {
          "base_uri": "https://localhost:8080/"
        },
        "outputId": "7fe054c8-545c-4147-a5a7-ae19c27e8186"
      },
      "source": [
        "#2D 배열(즉, 행렬)을 만들려면 원하는 행과 열의 크기를 튜플로 전달합니다. 예를 들어 다음은 3 \\times 4 크기의 행렬입니다:\n",
        "\n",
        "np.zeros((3,4))"
      ],
      "execution_count": 56,
      "outputs": [
        {
          "output_type": "execute_result",
          "data": {
            "text/plain": [
              "array([[0., 0., 0., 0.],\n",
              "       [0., 0., 0., 0.],\n",
              "       [0., 0., 0., 0.]])"
            ]
          },
          "metadata": {
            "tags": []
          },
          "execution_count": 56
        }
      ]
    },
    {
      "cell_type": "code",
      "metadata": {
        "id": "vUJHEN_FA6By",
        "colab": {
          "base_uri": "https://localhost:8080/"
        },
        "outputId": "436a2f85-cf50-4073-f336-80dc826b7838"
      },
      "source": [
        "a = np.zeros((3,4))\n",
        "a"
      ],
      "execution_count": 57,
      "outputs": [
        {
          "output_type": "execute_result",
          "data": {
            "text/plain": [
              "array([[0., 0., 0., 0.],\n",
              "       [0., 0., 0., 0.],\n",
              "       [0., 0., 0., 0.]])"
            ]
          },
          "metadata": {
            "tags": []
          },
          "execution_count": 57
        }
      ]
    },
    {
      "cell_type": "code",
      "metadata": {
        "id": "mzrutOYyA8CS",
        "colab": {
          "base_uri": "https://localhost:8080/"
        },
        "outputId": "2f729a70-f78e-4c52-f6f1-30d938fc707c"
      },
      "source": [
        "a.shape"
      ],
      "execution_count": 58,
      "outputs": [
        {
          "output_type": "execute_result",
          "data": {
            "text/plain": [
              "(3, 4)"
            ]
          },
          "metadata": {
            "tags": []
          },
          "execution_count": 58
        }
      ]
    },
    {
      "cell_type": "code",
      "metadata": {
        "id": "Knsc4SCPA9FI",
        "colab": {
          "base_uri": "https://localhost:8080/"
        },
        "outputId": "c2ae90a6-1b0c-46ab-8161-b4c04eecfd67"
      },
      "source": [
        "a.ndim # len(a.shape)와 같습니다"
      ],
      "execution_count": 59,
      "outputs": [
        {
          "output_type": "execute_result",
          "data": {
            "text/plain": [
              "2"
            ]
          },
          "metadata": {
            "tags": []
          },
          "execution_count": 59
        }
      ]
    },
    {
      "cell_type": "code",
      "metadata": {
        "id": "sq0vJhlgA-M3",
        "colab": {
          "base_uri": "https://localhost:8080/"
        },
        "outputId": "d75f939c-918e-4137-a73f-6491855e199c"
      },
      "source": [
        "a.size"
      ],
      "execution_count": 60,
      "outputs": [
        {
          "output_type": "execute_result",
          "data": {
            "text/plain": [
              "12"
            ]
          },
          "metadata": {
            "tags": []
          },
          "execution_count": 60
        }
      ]
    },
    {
      "cell_type": "code",
      "metadata": {
        "id": "g_i6UPINA_8o",
        "colab": {
          "base_uri": "https://localhost:8080/"
        },
        "outputId": "eba36c4b-c0f6-47b3-c9b4-95681a6812b6"
      },
      "source": [
        "# 초기화되지 않은 2 \\times 3 크기의 배열을 만듭니다(배열의 내용은 예측이 불가능하며 메모리 상황에 따라 달라집니다):\n",
        "\n",
        "np.empty((2,3))"
      ],
      "execution_count": 61,
      "outputs": [
        {
          "output_type": "execute_result",
          "data": {
            "text/plain": [
              "array([[2.0e-323, 2.5e-323, 3.0e-323],\n",
              "       [3.5e-323, 4.0e-323, 4.4e-323]])"
            ]
          },
          "metadata": {
            "tags": []
          },
          "execution_count": 61
        }
      ]
    },
    {
      "cell_type": "code",
      "metadata": {
        "id": "PTCzRhCiBAyo",
        "colab": {
          "base_uri": "https://localhost:8080/"
        },
        "outputId": "e858d220-18cc-43cf-d169-8ca16244c94e"
      },
      "source": [
        "#array 함수는 파이썬 리스트를 사용하여 ndarray를 초기화합니다:\n",
        "\n",
        "np.array([[1,2,3,4], [10, 20, 30, 40]])"
      ],
      "execution_count": 62,
      "outputs": [
        {
          "output_type": "execute_result",
          "data": {
            "text/plain": [
              "array([[ 1,  2,  3,  4],\n",
              "       [10, 20, 30, 40]])"
            ]
          },
          "metadata": {
            "tags": []
          },
          "execution_count": 62
        }
      ]
    },
    {
      "cell_type": "code",
      "metadata": {
        "id": "dAU3-6CV9u3R",
        "colab": {
          "base_uri": "https://localhost:8080/"
        },
        "outputId": "5cbe763c-6dcd-46e7-dba0-e26257494a33"
      },
      "source": [
        "x = np.array([-10, -5, 0, 3, 7])\n",
        "# x에 있는 배열을 모두 양의 정수로 반환하기\n",
        "\n",
        "np.abs(x)"
      ],
      "execution_count": 63,
      "outputs": [
        {
          "output_type": "execute_result",
          "data": {
            "text/plain": [
              "array([10,  5,  0,  3,  7])"
            ]
          },
          "metadata": {
            "tags": []
          },
          "execution_count": 63
        }
      ]
    },
    {
      "cell_type": "code",
      "metadata": {
        "id": "xrZfT0dH-J4X",
        "colab": {
          "base_uri": "https://localhost:8080/"
        },
        "outputId": "70105663-372e-42c9-ad1e-b16e4e2531f6"
      },
      "source": [
        "# 모두 양의 정수가 된 배열 x를 자연로그 배열로 반환하기\n",
        "\n",
        "bbb = np.abs(x)\n",
        "np.log(bbb)"
      ],
      "execution_count": 64,
      "outputs": [
        {
          "output_type": "stream",
          "text": [
            "/usr/local/lib/python3.7/dist-packages/ipykernel_launcher.py:4: RuntimeWarning: divide by zero encountered in log\n",
            "  after removing the cwd from sys.path.\n"
          ],
          "name": "stderr"
        },
        {
          "output_type": "execute_result",
          "data": {
            "text/plain": [
              "array([2.30258509, 1.60943791,       -inf, 1.09861229, 1.94591015])"
            ]
          },
          "metadata": {
            "tags": []
          },
          "execution_count": 64
        }
      ]
    },
    {
      "cell_type": "markdown",
      "metadata": {
        "id": "wQ14Cr7W9ZNP"
      },
      "source": [
        "## 집계함수"
      ]
    },
    {
      "cell_type": "code",
      "metadata": {
        "id": "VQgkBEIDC5er",
        "colab": {
          "base_uri": "https://localhost:8080/"
        },
        "outputId": "4f8b071a-4604-4166-8a1f-5fcfa8a90f41"
      },
      "source": [
        "x=np.array([-2,-1,0,1,2])\n",
        "\"절댓값을 씌우려면?\"\n",
        "힌트: \"np.absolute(x)\"\n",
        "\n",
        "np.abs(x)"
      ],
      "execution_count": 65,
      "outputs": [
        {
          "output_type": "execute_result",
          "data": {
            "text/plain": [
              "array([2, 1, 0, 1, 2])"
            ]
          },
          "metadata": {
            "tags": []
          },
          "execution_count": 65
        }
      ]
    },
    {
      "cell_type": "code",
      "metadata": {
        "id": "yGy7cRtmC6AA",
        "colab": {
          "base_uri": "https://localhost:8080/"
        },
        "outputId": "4d43e8b3-188e-41d7-c874-fc26700dbc06"
      },
      "source": [
        "#삼각함수\n",
        "theta = np.linspace(0,np.pi,3)\n",
        "print(\"theta=\" , theta)\n",
        "print(\"코사인 함수 =\", np.cos(theta))\n",
        "print(\"탄젠트 함수= \", np.tan(theta)) \n",
        "\n"
      ],
      "execution_count": 66,
      "outputs": [
        {
          "output_type": "stream",
          "text": [
            "theta= [0.         1.57079633 3.14159265]\n",
            "코사인 함수 = [ 1.000000e+00  6.123234e-17 -1.000000e+00]\n",
            "탄젠트 함수=  [ 0.00000000e+00  1.63312394e+16 -1.22464680e-16]\n"
          ],
          "name": "stdout"
        }
      ]
    },
    {
      "cell_type": "code",
      "metadata": {
        "id": "XCvqtkfdC6DQ",
        "colab": {
          "base_uri": "https://localhost:8080/"
        },
        "outputId": "d3766789-72d7-418f-d378-847e3281cae4"
      },
      "source": [
        "#역삼각함수\n",
        "x = [-1,0,1]\n",
        "print(\"역 사인함수=\", np.arcsin(x))\n",
        "print(\"역 코사인함수=\",np.arccos(x))\n",
        "print(\"역 탄젠트함수=\",np.arctan(x))"
      ],
      "execution_count": 91,
      "outputs": [
        {
          "output_type": "stream",
          "text": [
            "역 사인함수= [-1.57079633  0.          1.57079633]\n",
            "역 코사인함수= [3.14159265 1.57079633 0.        ]\n",
            "역 탄젠트함수= [-0.78539816  0.          0.78539816]\n"
          ],
          "name": "stdout"
        }
      ]
    },
    {
      "cell_type": "code",
      "metadata": {
        "id": "Bz4GuB0sC6IE",
        "colab": {
          "base_uri": "https://localhost:8080/"
        },
        "outputId": "f5e785a5-145d-42e0-ca49-93f70d301f14"
      },
      "source": [
        "#로그함수\n",
        "x=[1,2,4,10]\n",
        "print(\"자연로그=\", np.log(x))\n",
        "print(\"밑이2인 로그함수=\", np.log2(x))\n",
        "print(\"밑이 10인 로그함수=\", np.log10(x))"
      ],
      "execution_count": 92,
      "outputs": [
        {
          "output_type": "stream",
          "text": [
            "자연로그= [0.         0.69314718 1.38629436 2.30258509]\n",
            "밑이2인 로그함수= [0.         1.         2.         3.32192809]\n",
            "밑이 10인 로그함수= [0.         0.30103    0.60205999 1.        ]\n"
          ],
          "name": "stdout"
        }
      ]
    },
    {
      "cell_type": "code",
      "metadata": {
        "id": "mYPwcUsvC6Ls",
        "colab": {
          "base_uri": "https://localhost:8080/"
        },
        "outputId": "c8242154-4233-4730-9a6b-4a43d3133194"
      },
      "source": [
        "#지수함수\n",
        "x=[1,2,3]\n",
        "print(\"e^x=\", np.exp(x))\n",
        "print(\"2^x\", np.exp2(x))\n",
        "print(\"3^x=\", np.power(3,x))"
      ],
      "execution_count": 93,
      "outputs": [
        {
          "output_type": "stream",
          "text": [
            "e^x= [ 2.71828183  7.3890561  20.08553692]\n",
            "2^x [2. 4. 8.]\n",
            "3^x= [ 3  9 27]\n"
          ],
          "name": "stdout"
        }
      ]
    },
    {
      "cell_type": "code",
      "metadata": {
        "id": "TIhmzJunC6PJ",
        "colab": {
          "base_uri": "https://localhost:8080/"
        },
        "outputId": "c82a8528-41aa-470b-b5e8-63baae6fc65c"
      },
      "source": [
        "#out 인자 \n",
        "x=np.arange(5)\n",
        "y=np.empty(5)\n",
        "np.multiply(x,10,out=y)\n",
        "print(y)"
      ],
      "execution_count": 94,
      "outputs": [
        {
          "output_type": "stream",
          "text": [
            "[ 0. 10. 20. 30. 40.]\n"
          ],
          "name": "stdout"
        }
      ]
    },
    {
      "cell_type": "code",
      "metadata": {
        "id": "7Xjkz_DiC6SQ",
        "colab": {
          "base_uri": "https://localhost:8080/"
        },
        "outputId": "9337707e-7d20-4b62-e2e6-fdd22b30fe66"
      },
      "source": [
        "#out 인자를 활용하여 배열 슬라이싱\n",
        "x=np.arange(5)\n",
        "y=np.empty(10)\n",
        "np.power(2,x,out=y[::2])\n",
        "print(y)"
      ],
      "execution_count": 95,
      "outputs": [
        {
          "output_type": "stream",
          "text": [
            "[ 1.  0.  2.  0.  4.  0.  8.  0. 16.  0.]\n"
          ],
          "name": "stdout"
        }
      ]
    },
    {
      "cell_type": "code",
      "metadata": {
        "id": "iE_xW8KzDBof",
        "colab": {
          "base_uri": "https://localhost:8080/"
        },
        "outputId": "c3e9d1a9-0c21-4a1d-c96f-84b2e286e5c7"
      },
      "source": [
        "#reduce 함수\n",
        "x=np.arange(1,5)\n",
        "np.add.reduce(x)"
      ],
      "execution_count": 96,
      "outputs": [
        {
          "output_type": "execute_result",
          "data": {
            "text/plain": [
              "10"
            ]
          },
          "metadata": {
            "tags": []
          },
          "execution_count": 96
        }
      ]
    },
    {
      "cell_type": "code",
      "metadata": {
        "id": "QfZWyUi1DCJd",
        "colab": {
          "base_uri": "https://localhost:8080/"
        },
        "outputId": "ef2841b9-25ea-4228-f3e6-ecb42b5c80b9"
      },
      "source": [
        "#sum,max,min함수\n",
        "s=np.random.random(1000)\n",
        "print(\"s의최솟값=\",np.min(s))\n",
        "print(\"s의최댓값=\",np.max(s))\n"
      ],
      "execution_count": 97,
      "outputs": [
        {
          "output_type": "stream",
          "text": [
            "s의최솟값= 0.002061153603725052\n",
            "s의최댓값= 0.9988512679756393\n"
          ],
          "name": "stdout"
        }
      ]
    },
    {
      "cell_type": "code",
      "metadata": {
        "id": "4PzwblvNDCMy",
        "colab": {
          "base_uri": "https://localhost:8080/",
          "height": 34
        },
        "outputId": "8e11a8ec-dab5-49b8-daba-f51b2d177baa"
      },
      "source": [
        "#axis 인자\n",
        "\"axis=0: 열기준 집계연산\"\n",
        "\"axis=1: 행기준 집계연산\"\n",
        "\"axis=none: 배열 내 모든 요소의 집계연산axis 인자\""
      ],
      "execution_count": 74,
      "outputs": [
        {
          "output_type": "execute_result",
          "data": {
            "application/vnd.google.colaboratory.intrinsic+json": {
              "type": "string"
            },
            "text/plain": [
              "'axis=none: 배열 내 모든 요소의 집계연산axis 인자'"
            ]
          },
          "metadata": {
            "tags": []
          },
          "execution_count": 74
        }
      ]
    },
    {
      "cell_type": "code",
      "metadata": {
        "id": "K51SaedIDCSr",
        "colab": {
          "base_uri": "https://localhost:8080/"
        },
        "outputId": "1f38565d-449d-4f9f-e1bf-83322eaa8786"
      },
      "source": [
        "m= np.random.random((3,4))\n",
        "print(m)"
      ],
      "execution_count": 75,
      "outputs": [
        {
          "output_type": "stream",
          "text": [
            "[[0.47713352 0.51264547 0.05493704 0.52376519]\n",
            " [0.67126738 0.94062144 0.68142494 0.84832423]\n",
            " [0.07015884 0.76213502 0.17959271 0.78462517]]\n"
          ],
          "name": "stdout"
        }
      ]
    },
    {
      "cell_type": "markdown",
      "metadata": {
        "id": "l7VYaxRL9agA"
      },
      "source": [
        "## 브로드캐스팅 연산"
      ]
    },
    {
      "cell_type": "code",
      "metadata": {
        "id": "xHRGT0S7DTYe",
        "colab": {
          "base_uri": "https://localhost:8080/"
        },
        "outputId": "68710f7a-70d5-4499-9ffa-634172ac6ec3"
      },
      "source": [
        "# 크기가 같은 어레이의 연산을 하기\n",
        "\n",
        "x = np.array([0,1,2])\n",
        "y = np.array([3,3,3])\n",
        "x+y"
      ],
      "execution_count": 98,
      "outputs": [
        {
          "output_type": "execute_result",
          "data": {
            "text/plain": [
              "array([3, 4, 5])"
            ]
          },
          "metadata": {
            "tags": []
          },
          "execution_count": 98
        }
      ]
    },
    {
      "cell_type": "code",
      "metadata": {
        "id": "NVI4DOqKDTgp",
        "colab": {
          "base_uri": "https://localhost:8080/"
        },
        "outputId": "496e2c1a-7069-4b4e-e990-e95521e786f6"
      },
      "source": [
        "# 배열의 크기를 늘려서 연산하기\n",
        "\n",
        "x = np.array([0,1,2])\n",
        "x+10"
      ],
      "execution_count": 99,
      "outputs": [
        {
          "output_type": "execute_result",
          "data": {
            "text/plain": [
              "array([10, 11, 12])"
            ]
          },
          "metadata": {
            "tags": []
          },
          "execution_count": 99
        }
      ]
    },
    {
      "cell_type": "markdown",
      "metadata": {
        "id": "iwnH05_R9cFv"
      },
      "source": [
        "## 비교연산자"
      ]
    },
    {
      "cell_type": "code",
      "metadata": {
        "id": "wlaHQtWIDTjx",
        "colab": {
          "base_uri": "https://localhost:8080/"
        },
        "outputId": "d9441835-1e08-4f21-c99f-94c96862d6d6"
      },
      "source": [
        "# any 함수를 이용하여 하나라도 만족하면 true를 산출하는 코드만들기\n",
        "\n",
        "x = np.arange(10)\n",
        "np.any(x<5), np.any(x<0)"
      ],
      "execution_count": 100,
      "outputs": [
        {
          "output_type": "execute_result",
          "data": {
            "text/plain": [
              "(True, False)"
            ]
          },
          "metadata": {
            "tags": []
          },
          "execution_count": 100
        }
      ]
    },
    {
      "cell_type": "code",
      "metadata": {
        "id": "D-OgFcn5DSjM",
        "colab": {
          "base_uri": "https://localhost:8080/"
        },
        "outputId": "fba62f2b-ee97-4470-fc19-4830e7aa071c"
      },
      "source": [
        "# all함수를 이용하여 true산출 코드 만들기\n",
        "\n",
        "x = np.arange(10)\n",
        "np.all(x<5), np.all(x<0)"
      ],
      "execution_count": 101,
      "outputs": [
        {
          "output_type": "execute_result",
          "data": {
            "text/plain": [
              "(False, False)"
            ]
          },
          "metadata": {
            "tags": []
          },
          "execution_count": 101
        }
      ]
    },
    {
      "cell_type": "code",
      "metadata": {
        "id": "JzbeCfBnDSqm",
        "colab": {
          "base_uri": "https://localhost:8080/"
        },
        "outputId": "bbed131c-40e6-46cb-f880-da0cf1ceb8f9"
      },
      "source": [
        "# 1~5사이의 구간에서 5개 정수를 무작위로 발생시켜 1차원배열 2개변수를 생성하고 이에대한 불리언 값 결과내기\n",
        "\n",
        "a = np.random.randint(1,5,5)\n",
        "b = np.random.randint(1,5,5)\n",
        "print(a,b)\n",
        "a==b"
      ],
      "execution_count": 102,
      "outputs": [
        {
          "output_type": "stream",
          "text": [
            "[3 4 1 4 4] [2 3 4 2 3]\n"
          ],
          "name": "stdout"
        },
        {
          "output_type": "execute_result",
          "data": {
            "text/plain": [
              "array([False, False, False, False, False])"
            ]
          },
          "metadata": {
            "tags": []
          },
          "execution_count": 102
        }
      ]
    },
    {
      "cell_type": "markdown",
      "metadata": {
        "id": "cvNr6-5O9fLA"
      },
      "source": [
        "## 팬시 인덱싱"
      ]
    },
    {
      "cell_type": "code",
      "metadata": {
        "id": "t7MWDGDEDSuE",
        "colab": {
          "base_uri": "https://localhost:8080/"
        },
        "outputId": "f158ddfa-3d8e-4be6-e3bb-3b7ae8cfa19e"
      },
      "source": [
        "#배열을 생성하여 인덱싱하기\n",
        "\n",
        "a = np.arange(10)\n",
        "b = np.array([3,6,9])\n",
        "a[b]"
      ],
      "execution_count": 103,
      "outputs": [
        {
          "output_type": "execute_result",
          "data": {
            "text/plain": [
              "array([3, 6, 9])"
            ]
          },
          "metadata": {
            "tags": []
          },
          "execution_count": 103
        }
      ]
    },
    {
      "cell_type": "code",
      "metadata": {
        "id": "ipMA6b3uDSxP",
        "colab": {
          "base_uri": "https://localhost:8080/"
        },
        "outputId": "8913523a-564f-4e06-cda6-25cd14807069"
      },
      "source": [
        "#인덱스 값을 가진 2차원 배열(예를 들어 row=np.array([0,1,2]))을 이용하여 인덱싱\n",
        "\n",
        "x = np.arange(12).reshape((3,4))\n",
        "x\n",
        "\n",
        "row = np.array([0,1,2])\n",
        "col = np.array([2,1,3])\n",
        "x [row, col]"
      ],
      "execution_count": 106,
      "outputs": [
        {
          "output_type": "execute_result",
          "data": {
            "text/plain": [
              "array([ 2,  5, 11])"
            ]
          },
          "metadata": {
            "tags": []
          },
          "execution_count": 106
        }
      ]
    },
    {
      "cell_type": "markdown",
      "metadata": {
        "id": "fIFQzEK89gjy"
      },
      "source": [
        "## 정렬 "
      ]
    },
    {
      "cell_type": "code",
      "metadata": {
        "id": "8-vycEUGE0G2",
        "colab": {
          "base_uri": "https://localhost:8080/"
        },
        "outputId": "c58f9814-dc21-4f4e-9281-610838a5b049"
      },
      "source": [
        "#np.sort함수를 이용하여 복사하기\n",
        "\n",
        "x = np.array([4,1,5,2,3])\n",
        "print(x, np.sort(x))"
      ],
      "execution_count": 107,
      "outputs": [
        {
          "output_type": "stream",
          "text": [
            "[4 1 5 2 3] [1 2 3 4 5]\n"
          ],
          "name": "stdout"
        }
      ]
    },
    {
      "cell_type": "code",
      "metadata": {
        "id": "WzF6Iw5HE76_",
        "colab": {
          "base_uri": "https://localhost:8080/"
        },
        "outputId": "228f736c-544e-43c7-e3db-f86a445cb207"
      },
      "source": [
        "#변수.sort함수를 이용하여 정렬하기\n",
        "\n",
        "x.sort()\n",
        "print(x)"
      ],
      "execution_count": 108,
      "outputs": [
        {
          "output_type": "stream",
          "text": [
            "[1 2 3 4 5]\n"
          ],
          "name": "stdout"
        }
      ]
    },
    {
      "cell_type": "code",
      "metadata": {
        "id": "b1regsEqE7-X",
        "colab": {
          "base_uri": "https://localhost:8080/"
        },
        "outputId": "f75220e5-7d45-470e-9fa9-79f3f4be249e"
      },
      "source": [
        "#np.arsort함수 이용하여 정렬 요소의 인덱스를 반환하기\n",
        "i = np.argsort(x)\n",
        "print(i)"
      ],
      "execution_count": 109,
      "outputs": [
        {
          "output_type": "stream",
          "text": [
            "[0 1 2 3 4]\n"
          ],
          "name": "stdout"
        }
      ]
    },
    {
      "cell_type": "code",
      "metadata": {
        "id": "glpi3sAWE8Bw",
        "colab": {
          "base_uri": "https://localhost:8080/"
        },
        "outputId": "f21452b9-98e4-47e1-c888-59cd3499ae99"
      },
      "source": [
        "#x_reverse를 이용하여 내림차순\n",
        "\n",
        "x_reverse = np.sort(x)[::-1]\n",
        "print(x_reverse)"
      ],
      "execution_count": 112,
      "outputs": [
        {
          "output_type": "stream",
          "text": [
            "[5 4 3 2 1]\n"
          ],
          "name": "stdout"
        }
      ]
    },
    {
      "cell_type": "code",
      "metadata": {
        "id": "HBsSfJFyFRai",
        "colab": {
          "base_uri": "https://localhost:8080/"
        },
        "outputId": "01975ec4-558a-4ca8-9acb-2a6a8f5886e6"
      },
      "source": [
        "#axis를 이용하여 각 열을 기준으로 정렬하기\n",
        "\n",
        "x = np.array([[2,0,6], [7,3,4], [1,5,3]])\n",
        "np.sort(x, axis = 0)"
      ],
      "execution_count": 114,
      "outputs": [
        {
          "output_type": "execute_result",
          "data": {
            "text/plain": [
              "array([[1, 0, 3],\n",
              "       [2, 3, 4],\n",
              "       [7, 5, 6]])"
            ]
          },
          "metadata": {
            "tags": []
          },
          "execution_count": 114
        }
      ]
    },
    {
      "cell_type": "code",
      "metadata": {
        "id": "yav7laqrFWjP",
        "colab": {
          "base_uri": "https://localhost:8080/"
        },
        "outputId": "e9e687d6-b1eb-4ab9-94a8-df3c8480a828"
      },
      "source": [
        "#axis를 이용하여 각 행을 기준으로 정렬하기#axis를 이용하여 각 행을 기준으로 정렬하기\n",
        "\n",
        "x = np.array([[2,0,6], [7,3,4], [1,5,3]])\n",
        "np.sort(x, axis = 1)"
      ],
      "execution_count": 115,
      "outputs": [
        {
          "output_type": "execute_result",
          "data": {
            "text/plain": [
              "array([[0, 2, 6],\n",
              "       [3, 4, 7],\n",
              "       [1, 3, 5]])"
            ]
          },
          "metadata": {
            "tags": []
          },
          "execution_count": 115
        }
      ]
    }
  ]
}