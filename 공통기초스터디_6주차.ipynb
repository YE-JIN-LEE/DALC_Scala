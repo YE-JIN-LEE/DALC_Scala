{
  "nbformat": 4,
  "nbformat_minor": 0,
  "metadata": {
    "kernelspec": {
      "display_name": "Python 3",
      "language": "python",
      "name": "python3"
    },
    "language_info": {
      "codemirror_mode": {
        "name": "ipython",
        "version": 3
      },
      "file_extension": ".py",
      "mimetype": "text/x-python",
      "name": "python",
      "nbconvert_exporter": "python",
      "pygments_lexer": "ipython3",
      "version": "3.7.6"
    },
    "colab": {
      "name": "공통기초스터디 6주차.ipynb",
      "provenance": [],
      "include_colab_link": true
    }
  },
  "cells": [
    {
      "cell_type": "markdown",
      "metadata": {
        "id": "view-in-github",
        "colab_type": "text"
      },
      "source": [
        "<a href=\"https://colab.research.google.com/github/YE-JIN-LEE/DALC_Scala/blob/main/%EA%B3%B5%ED%86%B5%EA%B8%B0%EC%B4%88%EC%8A%A4%ED%84%B0%EB%94%94_6%EC%A3%BC%EC%B0%A8.ipynb\" target=\"_parent\"><img src=\"https://colab.research.google.com/assets/colab-badge.svg\" alt=\"Open In Colab\"/></a>"
      ]
    },
    {
      "cell_type": "markdown",
      "metadata": {
        "id": "goOIbDQKTGFs"
      },
      "source": [
        "# 머신러닝"
      ]
    },
    {
      "cell_type": "markdown",
      "metadata": {
        "id": "7r6-QT0pTGFx"
      },
      "source": [
        "## 머신러닝의 정의\n",
        "- 인공지능의 하위 분야로 분류\n",
        "- 데이터 모델을 구축하는 체계적인 수단\n",
        "- 데이터를 통한 학습 모델을 도출하고 새로운 데이터에 대한 추론과 패턴 예측에 활용"
      ]
    },
    {
      "cell_type": "markdown",
      "metadata": {
        "id": "a1eHj7TuTGFz"
      },
      "source": [
        "## 머신러닝의 범주\n",
        "\n",
        "### 지도학습 (Supervised learning)\n",
        "데이터의 측정된 특징과 데이터와 관련된 레이블 사이의 관계를 모델링\n",
        "\n",
        "### 비지도학습 (Unsupervised learning)\n",
        "레이블을 참조하지 않고 데이터 세트의 특징을 모델링"
      ]
    },
    {
      "cell_type": "markdown",
      "metadata": {
        "id": "HEGRAGOUTGF1"
      },
      "source": [
        "## 회귀분석\n",
        "\n",
        "### 회귀분석\n",
        "레이블이 연속적인 수치형 데이터일 경우\n",
        "\n",
        "### 분류분석\n",
        "레이블이 범주, 클래스 등 이산적 데이터일 경우"
      ]
    },
    {
      "cell_type": "code",
      "metadata": {
        "id": "0UY4Qkt7TGF2",
        "outputId": "4189319d-bc9d-4289-d18b-5cc43088c5a4"
      },
      "source": [
        "import seaborn as sns\n",
        "iris = sns.load_dataset('iris')\n",
        "iris.head(4)"
      ],
      "execution_count": null,
      "outputs": [
        {
          "output_type": "execute_result",
          "data": {
            "text/html": [
              "<div>\n",
              "<style scoped>\n",
              "    .dataframe tbody tr th:only-of-type {\n",
              "        vertical-align: middle;\n",
              "    }\n",
              "\n",
              "    .dataframe tbody tr th {\n",
              "        vertical-align: top;\n",
              "    }\n",
              "\n",
              "    .dataframe thead th {\n",
              "        text-align: right;\n",
              "    }\n",
              "</style>\n",
              "<table border=\"1\" class=\"dataframe\">\n",
              "  <thead>\n",
              "    <tr style=\"text-align: right;\">\n",
              "      <th></th>\n",
              "      <th>sepal_length</th>\n",
              "      <th>sepal_width</th>\n",
              "      <th>petal_length</th>\n",
              "      <th>petal_width</th>\n",
              "      <th>species</th>\n",
              "    </tr>\n",
              "  </thead>\n",
              "  <tbody>\n",
              "    <tr>\n",
              "      <th>0</th>\n",
              "      <td>5.1</td>\n",
              "      <td>3.5</td>\n",
              "      <td>1.4</td>\n",
              "      <td>0.2</td>\n",
              "      <td>setosa</td>\n",
              "    </tr>\n",
              "    <tr>\n",
              "      <th>1</th>\n",
              "      <td>4.9</td>\n",
              "      <td>3.0</td>\n",
              "      <td>1.4</td>\n",
              "      <td>0.2</td>\n",
              "      <td>setosa</td>\n",
              "    </tr>\n",
              "    <tr>\n",
              "      <th>2</th>\n",
              "      <td>4.7</td>\n",
              "      <td>3.2</td>\n",
              "      <td>1.3</td>\n",
              "      <td>0.2</td>\n",
              "      <td>setosa</td>\n",
              "    </tr>\n",
              "    <tr>\n",
              "      <th>3</th>\n",
              "      <td>4.6</td>\n",
              "      <td>3.1</td>\n",
              "      <td>1.5</td>\n",
              "      <td>0.2</td>\n",
              "      <td>setosa</td>\n",
              "    </tr>\n",
              "  </tbody>\n",
              "</table>\n",
              "</div>"
            ],
            "text/plain": [
              "   sepal_length  sepal_width  petal_length  petal_width species\n",
              "0           5.1          3.5           1.4          0.2  setosa\n",
              "1           4.9          3.0           1.4          0.2  setosa\n",
              "2           4.7          3.2           1.3          0.2  setosa\n",
              "3           4.6          3.1           1.5          0.2  setosa"
            ]
          },
          "metadata": {
            "tags": []
          },
          "execution_count": 1
        }
      ]
    },
    {
      "cell_type": "code",
      "metadata": {
        "id": "TPdY9OWDTGF5",
        "outputId": "4ec37865-4fa6-4889-a4f9-4667b2e20efb"
      },
      "source": [
        "import matplotlib.pyplot as plt\n",
        "import numpy as np\n",
        "\n",
        "rng = np.random.RandomState(42)\n",
        "x = 10*rng.rand(50)\n",
        "y = 2*x-1+rng.randn(50)\n",
        "plt.scatter(x,y)"
      ],
      "execution_count": null,
      "outputs": [
        {
          "output_type": "execute_result",
          "data": {
            "text/plain": [
              "<matplotlib.collections.PathCollection at 0x2a7b20343c8>"
            ]
          },
          "metadata": {
            "tags": []
          },
          "execution_count": 3
        },
        {
          "output_type": "display_data",
          "data": {
            "image/png": "[encoded data removed]",
            "text/plain": [
              "<Figure size 432x288 with 1 Axes>"
            ]
          },
          "metadata": {
            "tags": [],
            "needs_background": "light"
          }
        }
      ]
    },
    {
      "cell_type": "code",
      "metadata": {
        "id": "IoSO5cEWTGF7"
      },
      "source": [
        "from sklearn.linear_model import LinearRegression"
      ],
      "execution_count": null,
      "outputs": []
    },
    {
      "cell_type": "code",
      "metadata": {
        "id": "-ScCJv_wTGF8"
      },
      "source": [
        "model = LinearRegression(fit_intercept=True)"
      ],
      "execution_count": null,
      "outputs": []
    },
    {
      "cell_type": "code",
      "metadata": {
        "id": "z-vsfGonTGF8",
        "outputId": "08a12781-cefe-444a-beac-5db8cbbbd952"
      },
      "source": [
        "X = x[:, np.newaxis]\n",
        "X.shape"
      ],
      "execution_count": null,
      "outputs": [
        {
          "output_type": "execute_result",
          "data": {
            "text/plain": [
              "(50, 1)"
            ]
          },
          "metadata": {
            "tags": []
          },
          "execution_count": 7
        }
      ]
    },
    {
      "cell_type": "code",
      "metadata": {
        "id": "PJTztuEFTGF9",
        "outputId": "b1a933a8-e029-4c3f-9025-b002fa8fa558"
      },
      "source": [
        "X = x.reshape(50,1)\n",
        "X.shape"
      ],
      "execution_count": null,
      "outputs": [
        {
          "output_type": "execute_result",
          "data": {
            "text/plain": [
              "(50, 1)"
            ]
          },
          "metadata": {
            "tags": []
          },
          "execution_count": 8
        }
      ]
    },
    {
      "cell_type": "code",
      "metadata": {
        "id": "fZKiGZK3TGF_",
        "outputId": "2532a6a3-6c61-4f62-c572-b744f56f11c7"
      },
      "source": [
        "model.fit(X,y)"
      ],
      "execution_count": null,
      "outputs": [
        {
          "output_type": "execute_result",
          "data": {
            "text/plain": [
              "LinearRegression(copy_X=True, fit_intercept=True, n_jobs=None, normalize=False)"
            ]
          },
          "metadata": {
            "tags": []
          },
          "execution_count": 9
        }
      ]
    },
    {
      "cell_type": "code",
      "metadata": {
        "id": "hpCWC9lyTGGA",
        "outputId": "98b2960d-29ac-4db0-ac58-bfaac35977c1"
      },
      "source": [
        "print(model.coef_)"
      ],
      "execution_count": null,
      "outputs": [
        {
          "output_type": "stream",
          "text": [
            "[1.9776566]\n"
          ],
          "name": "stdout"
        }
      ]
    },
    {
      "cell_type": "code",
      "metadata": {
        "id": "CZ8MOQTATGGB",
        "outputId": "a73cf5d3-e465-4c06-f131-75916616663b"
      },
      "source": [
        "print(model.intercept_)"
      ],
      "execution_count": null,
      "outputs": [
        {
          "output_type": "stream",
          "text": [
            "-0.9033107255311164\n"
          ],
          "name": "stdout"
        }
      ]
    },
    {
      "cell_type": "code",
      "metadata": {
        "id": "RRyQ5PAuTGGC",
        "outputId": "7bb4b1d3-71e0-4209-f5b3-08daff87fbf3"
      },
      "source": [
        "xfit = np.linspace(-1,11)\n",
        "plt.scatter(x,y)\n",
        "plt.plot(xfit, model.coef_ * xfit + model.intercept_, '-r')"
      ],
      "execution_count": null,
      "outputs": [
        {
          "output_type": "execute_result",
          "data": {
            "text/plain": [
              "[<matplotlib.lines.Line2D at 0x2a7b4554a88>]"
            ]
          },
          "metadata": {
            "tags": []
          },
          "execution_count": 12
        },
        {
          "output_type": "display_data",
          "data": {
            "image/png": "[encoded data removed]",
            "text/plain": [
              "<Figure size 432x288 with 1 Axes>"
            ]
          },
          "metadata": {
            "tags": [],
            "needs_background": "light"
          }
        }
      ]
    },
    {
      "cell_type": "markdown",
      "metadata": {
        "id": "ma2sZGLiTGGD"
      },
      "source": [
        "- 고편향 모델 : 검정 표본에서의 모델 성능이 훈련 표본에서의 성능과 유사\n",
        "- 고분산 모델 : 훈련 표본에서는 모델 성능이 우수하지만 검정 표본에서는 성능 저하\n",
        "- 고편향과 고분산이 절충되어 검정 점수가 가장 높은 정도의 모델 복잡도가 나오는 것이 바람직함"
      ]
    }
  ]
}