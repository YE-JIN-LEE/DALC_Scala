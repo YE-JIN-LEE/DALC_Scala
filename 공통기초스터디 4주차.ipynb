{
 "cells": [
  {
   "cell_type": "code",
   "execution_count": 40,
   "metadata": {},
   "outputs": [],
   "source": [
    "import pandas as pd"
   ]
  },
  {
   "cell_type": "code",
   "execution_count": 41,
   "metadata": {},
   "outputs": [
    {
     "data": {
      "text/plain": [
       "a    0\n",
       "b    1\n",
       "c    2\n",
       "d    3\n",
       "dtype: int64"
      ]
     },
     "execution_count": 41,
     "metadata": {},
     "output_type": "execute_result"
    }
   ],
   "source": [
    "data = pd.Series([0, 1, 2, 3], index = ['a', 'b', 'c', 'd'])\n",
    "data"
   ]
  },
  {
   "cell_type": "code",
   "execution_count": 46,
   "metadata": {},
   "outputs": [
    {
     "data": {
      "text/plain": [
       "Callifornia    423967\n",
       "Texas          695662\n",
       "New Tork       141297\n",
       "dtype: int64"
      ]
     },
     "execution_count": 46,
     "metadata": {},
     "output_type": "execute_result"
    }
   ],
   "source": [
    "area_dict = {'Callifornia' : 423967, 'Texas' : 695662, 'New Tork' : 141297}\n",
    "area = pd.Series(area_dict)\n",
    "area"
   ]
  },
  {
   "cell_type": "code",
   "execution_count": 54,
   "metadata": {},
   "outputs": [
    {
     "data": {
      "text/html": [
       "<div>\n",
       "<style scoped>\n",
       "    .dataframe tbody tr th:only-of-type {\n",
       "        vertical-align: middle;\n",
       "    }\n",
       "\n",
       "    .dataframe tbody tr th {\n",
       "        vertical-align: top;\n",
       "    }\n",
       "\n",
       "    .dataframe thead th {\n",
       "        text-align: right;\n",
       "    }\n",
       "</style>\n",
       "<table border=\"1\" class=\"dataframe\">\n",
       "  <thead>\n",
       "    <tr style=\"text-align: right;\">\n",
       "      <th></th>\n",
       "      <th>population</th>\n",
       "    </tr>\n",
       "  </thead>\n",
       "  <tbody>\n",
       "    <tr>\n",
       "      <th>Callifornia</th>\n",
       "      <td>423967</td>\n",
       "    </tr>\n",
       "    <tr>\n",
       "      <th>Texas</th>\n",
       "      <td>695662</td>\n",
       "    </tr>\n",
       "    <tr>\n",
       "      <th>New Tork</th>\n",
       "      <td>141297</td>\n",
       "    </tr>\n",
       "  </tbody>\n",
       "</table>\n",
       "</div>"
      ],
      "text/plain": [
       "             population\n",
       "Callifornia      423967\n",
       "Texas            695662\n",
       "New Tork         141297"
      ]
     },
     "execution_count": 54,
     "metadata": {},
     "output_type": "execute_result"
    }
   ],
   "source": [
    "states = pd.DataFrame(area)\n",
    "states.columns = ['population']\n",
    "states"
   ]
  },
  {
   "cell_type": "code",
   "execution_count": 35,
   "metadata": {},
   "outputs": [],
   "source": [
    "import pandas as pd\n",
    "import matplotlib as mpl\n",
    "import matplotlib.pyplot as plt\n",
    "import seaborn as sns\n",
    "%matplotlib inline\n",
    "mpl.rcParams['axes.unicode_minus'] = False\n",
    "\n",
    "CT = pd.read_csv('일별평균대기오염도_2019.csv', encoding = 'euc-kr')"
   ]
  },
  {
   "cell_type": "code",
   "execution_count": 9,
   "metadata": {},
   "outputs": [
    {
     "data": {
      "text/html": [
       "<div>\n",
       "<style scoped>\n",
       "    .dataframe tbody tr th:only-of-type {\n",
       "        vertical-align: middle;\n",
       "    }\n",
       "\n",
       "    .dataframe tbody tr th {\n",
       "        vertical-align: top;\n",
       "    }\n",
       "\n",
       "    .dataframe thead th {\n",
       "        text-align: right;\n",
       "    }\n",
       "</style>\n",
       "<table border=\"1\" class=\"dataframe\">\n",
       "  <thead>\n",
       "    <tr style=\"text-align: right;\">\n",
       "      <th></th>\n",
       "      <th>측정일시</th>\n",
       "      <th>측정소명</th>\n",
       "      <th>이산화질소농도(ppm)</th>\n",
       "      <th>오존농도(ppm)</th>\n",
       "      <th>이산화탄소농도(ppm)</th>\n",
       "      <th>아황산가스(ppm)</th>\n",
       "      <th>미세먼지(㎍/㎥)</th>\n",
       "      <th>초미세먼지(㎍/㎥)</th>\n",
       "    </tr>\n",
       "  </thead>\n",
       "  <tbody>\n",
       "    <tr>\n",
       "      <th>0</th>\n",
       "      <td>20190101</td>\n",
       "      <td>강남구</td>\n",
       "      <td>0.028</td>\n",
       "      <td>0.012</td>\n",
       "      <td>0.6</td>\n",
       "      <td>0.005</td>\n",
       "      <td>37.0</td>\n",
       "      <td>31.0</td>\n",
       "    </tr>\n",
       "    <tr>\n",
       "      <th>1</th>\n",
       "      <td>20190101</td>\n",
       "      <td>강남대로</td>\n",
       "      <td>0.041</td>\n",
       "      <td>0.010</td>\n",
       "      <td>0.9</td>\n",
       "      <td>0.004</td>\n",
       "      <td>40.0</td>\n",
       "      <td>28.0</td>\n",
       "    </tr>\n",
       "    <tr>\n",
       "      <th>2</th>\n",
       "      <td>20190101</td>\n",
       "      <td>강동구</td>\n",
       "      <td>0.040</td>\n",
       "      <td>0.010</td>\n",
       "      <td>0.8</td>\n",
       "      <td>0.005</td>\n",
       "      <td>43.0</td>\n",
       "      <td>32.0</td>\n",
       "    </tr>\n",
       "    <tr>\n",
       "      <th>3</th>\n",
       "      <td>20190101</td>\n",
       "      <td>강변북로</td>\n",
       "      <td>0.048</td>\n",
       "      <td>0.009</td>\n",
       "      <td>0.5</td>\n",
       "      <td>0.005</td>\n",
       "      <td>45.0</td>\n",
       "      <td>27.0</td>\n",
       "    </tr>\n",
       "    <tr>\n",
       "      <th>4</th>\n",
       "      <td>20190101</td>\n",
       "      <td>강북구</td>\n",
       "      <td>0.026</td>\n",
       "      <td>0.019</td>\n",
       "      <td>0.6</td>\n",
       "      <td>0.003</td>\n",
       "      <td>46.0</td>\n",
       "      <td>29.0</td>\n",
       "    </tr>\n",
       "  </tbody>\n",
       "</table>\n",
       "</div>"
      ],
      "text/plain": [
       "       측정일시  측정소명  이산화질소농도(ppm)  오존농도(ppm)  이산화탄소농도(ppm)  아황산가스(ppm)  \\\n",
       "0  20190101   강남구         0.028      0.012           0.6       0.005   \n",
       "1  20190101  강남대로         0.041      0.010           0.9       0.004   \n",
       "2  20190101   강동구         0.040      0.010           0.8       0.005   \n",
       "3  20190101  강변북로         0.048      0.009           0.5       0.005   \n",
       "4  20190101   강북구         0.026      0.019           0.6       0.003   \n",
       "\n",
       "   미세먼지(㎍/㎥)  초미세먼지(㎍/㎥)  \n",
       "0       37.0        31.0  \n",
       "1       40.0        28.0  \n",
       "2       43.0        32.0  \n",
       "3       45.0        27.0  \n",
       "4       46.0        29.0  "
      ]
     },
     "execution_count": 9,
     "metadata": {},
     "output_type": "execute_result"
    }
   ],
   "source": [
    "CT.head()"
   ]
  },
  {
   "cell_type": "code",
   "execution_count": 10,
   "metadata": {},
   "outputs": [
    {
     "data": {
      "text/html": [
       "<div>\n",
       "<style scoped>\n",
       "    .dataframe tbody tr th:only-of-type {\n",
       "        vertical-align: middle;\n",
       "    }\n",
       "\n",
       "    .dataframe tbody tr th {\n",
       "        vertical-align: top;\n",
       "    }\n",
       "\n",
       "    .dataframe thead th {\n",
       "        text-align: right;\n",
       "    }\n",
       "</style>\n",
       "<table border=\"1\" class=\"dataframe\">\n",
       "  <thead>\n",
       "    <tr style=\"text-align: right;\">\n",
       "      <th></th>\n",
       "      <th>측정일시</th>\n",
       "      <th>측정소명</th>\n",
       "      <th>이산화질소농도(ppm)</th>\n",
       "      <th>오존농도(ppm)</th>\n",
       "      <th>이산화탄소농도(ppm)</th>\n",
       "      <th>아황산가스(ppm)</th>\n",
       "      <th>미세먼지(㎍/㎥)</th>\n",
       "      <th>초미세먼지(㎍/㎥)</th>\n",
       "    </tr>\n",
       "  </thead>\n",
       "  <tbody>\n",
       "    <tr>\n",
       "      <th>17070</th>\n",
       "      <td>20191231</td>\n",
       "      <td>청계천로</td>\n",
       "      <td>0.016</td>\n",
       "      <td>0.023</td>\n",
       "      <td>0.4</td>\n",
       "      <td>0.003</td>\n",
       "      <td>24.0</td>\n",
       "      <td>17.0</td>\n",
       "    </tr>\n",
       "    <tr>\n",
       "      <th>17071</th>\n",
       "      <td>20191231</td>\n",
       "      <td>한강대로</td>\n",
       "      <td>0.020</td>\n",
       "      <td>0.018</td>\n",
       "      <td>0.4</td>\n",
       "      <td>0.003</td>\n",
       "      <td>27.0</td>\n",
       "      <td>12.0</td>\n",
       "    </tr>\n",
       "    <tr>\n",
       "      <th>17072</th>\n",
       "      <td>20191231</td>\n",
       "      <td>행주</td>\n",
       "      <td>0.007</td>\n",
       "      <td>0.028</td>\n",
       "      <td>0.6</td>\n",
       "      <td>0.004</td>\n",
       "      <td>27.0</td>\n",
       "      <td>13.0</td>\n",
       "    </tr>\n",
       "    <tr>\n",
       "      <th>17073</th>\n",
       "      <td>20191231</td>\n",
       "      <td>홍릉로</td>\n",
       "      <td>0.025</td>\n",
       "      <td>0.018</td>\n",
       "      <td>0.5</td>\n",
       "      <td>0.004</td>\n",
       "      <td>27.0</td>\n",
       "      <td>16.0</td>\n",
       "    </tr>\n",
       "    <tr>\n",
       "      <th>17074</th>\n",
       "      <td>20191231</td>\n",
       "      <td>화랑로</td>\n",
       "      <td>0.019</td>\n",
       "      <td>0.020</td>\n",
       "      <td>0.2</td>\n",
       "      <td>0.004</td>\n",
       "      <td>20.0</td>\n",
       "      <td>13.0</td>\n",
       "    </tr>\n",
       "  </tbody>\n",
       "</table>\n",
       "</div>"
      ],
      "text/plain": [
       "           측정일시  측정소명  이산화질소농도(ppm)  오존농도(ppm)  이산화탄소농도(ppm)  아황산가스(ppm)  \\\n",
       "17070  20191231  청계천로         0.016      0.023           0.4       0.003   \n",
       "17071  20191231  한강대로         0.020      0.018           0.4       0.003   \n",
       "17072  20191231    행주         0.007      0.028           0.6       0.004   \n",
       "17073  20191231   홍릉로         0.025      0.018           0.5       0.004   \n",
       "17074  20191231   화랑로         0.019      0.020           0.2       0.004   \n",
       "\n",
       "       미세먼지(㎍/㎥)  초미세먼지(㎍/㎥)  \n",
       "17070       24.0        17.0  \n",
       "17071       27.0        12.0  \n",
       "17072       27.0        13.0  \n",
       "17073       27.0        16.0  \n",
       "17074       20.0        13.0  "
      ]
     },
     "execution_count": 10,
     "metadata": {},
     "output_type": "execute_result"
    }
   ],
   "source": [
    "CT.tail()"
   ]
  },
  {
   "cell_type": "code",
   "execution_count": 11,
   "metadata": {},
   "outputs": [
    {
     "data": {
      "text/plain": [
       "(17075, 8)"
      ]
     },
     "execution_count": 11,
     "metadata": {},
     "output_type": "execute_result"
    }
   ],
   "source": [
    "CT.shape"
   ]
  },
  {
   "cell_type": "code",
   "execution_count": 12,
   "metadata": {},
   "outputs": [
    {
     "name": "stdout",
     "output_type": "stream",
     "text": [
      "<class 'pandas.core.frame.DataFrame'>\n",
      "RangeIndex: 17075 entries, 0 to 17074\n",
      "Data columns (total 8 columns):\n",
      " #   Column        Non-Null Count  Dtype  \n",
      "---  ------        --------------  -----  \n",
      " 0   측정일시          17075 non-null  int64  \n",
      " 1   측정소명          17075 non-null  object \n",
      " 2   이산화질소농도(ppm)  16601 non-null  float64\n",
      " 3   오존농도(ppm)     16673 non-null  float64\n",
      " 4   이산화탄소농도(ppm)  16585 non-null  float64\n",
      " 5   아황산가스(ppm)    16607 non-null  float64\n",
      " 6   미세먼지(㎍/㎥)     16488 non-null  float64\n",
      " 7   초미세먼지(㎍/㎥)    16492 non-null  float64\n",
      "dtypes: float64(6), int64(1), object(1)\n",
      "memory usage: 1.0+ MB\n"
     ]
    }
   ],
   "source": [
    "CT.info()"
   ]
  },
  {
   "cell_type": "code",
   "execution_count": 13,
   "metadata": {},
   "outputs": [
    {
     "data": {
      "text/html": [
       "<div>\n",
       "<style scoped>\n",
       "    .dataframe tbody tr th:only-of-type {\n",
       "        vertical-align: middle;\n",
       "    }\n",
       "\n",
       "    .dataframe tbody tr th {\n",
       "        vertical-align: top;\n",
       "    }\n",
       "\n",
       "    .dataframe thead th {\n",
       "        text-align: right;\n",
       "    }\n",
       "</style>\n",
       "<table border=\"1\" class=\"dataframe\">\n",
       "  <thead>\n",
       "    <tr style=\"text-align: right;\">\n",
       "      <th></th>\n",
       "      <th>측정일시</th>\n",
       "      <th>이산화질소농도(ppm)</th>\n",
       "      <th>오존농도(ppm)</th>\n",
       "      <th>이산화탄소농도(ppm)</th>\n",
       "      <th>아황산가스(ppm)</th>\n",
       "      <th>미세먼지(㎍/㎥)</th>\n",
       "      <th>초미세먼지(㎍/㎥)</th>\n",
       "    </tr>\n",
       "  </thead>\n",
       "  <tbody>\n",
       "    <tr>\n",
       "      <th>count</th>\n",
       "      <td>1.707500e+04</td>\n",
       "      <td>16601.000000</td>\n",
       "      <td>16673.000000</td>\n",
       "      <td>16585.000000</td>\n",
       "      <td>16607.000000</td>\n",
       "      <td>16488.000000</td>\n",
       "      <td>16492.000000</td>\n",
       "    </tr>\n",
       "    <tr>\n",
       "      <th>mean</th>\n",
       "      <td>2.019068e+07</td>\n",
       "      <td>0.030693</td>\n",
       "      <td>0.023464</td>\n",
       "      <td>0.564420</td>\n",
       "      <td>0.004024</td>\n",
       "      <td>42.145864</td>\n",
       "      <td>24.508246</td>\n",
       "    </tr>\n",
       "    <tr>\n",
       "      <th>std</th>\n",
       "      <td>3.427564e+02</td>\n",
       "      <td>0.015226</td>\n",
       "      <td>0.013402</td>\n",
       "      <td>0.268259</td>\n",
       "      <td>0.001365</td>\n",
       "      <td>26.724031</td>\n",
       "      <td>18.416284</td>\n",
       "    </tr>\n",
       "    <tr>\n",
       "      <th>min</th>\n",
       "      <td>2.019010e+07</td>\n",
       "      <td>0.000000</td>\n",
       "      <td>0.000000</td>\n",
       "      <td>0.100000</td>\n",
       "      <td>0.001000</td>\n",
       "      <td>3.000000</td>\n",
       "      <td>1.000000</td>\n",
       "    </tr>\n",
       "    <tr>\n",
       "      <th>25%</th>\n",
       "      <td>2.019041e+07</td>\n",
       "      <td>0.019000</td>\n",
       "      <td>0.013000</td>\n",
       "      <td>0.400000</td>\n",
       "      <td>0.003000</td>\n",
       "      <td>25.000000</td>\n",
       "      <td>13.000000</td>\n",
       "    </tr>\n",
       "    <tr>\n",
       "      <th>50%</th>\n",
       "      <td>2.019071e+07</td>\n",
       "      <td>0.029000</td>\n",
       "      <td>0.022000</td>\n",
       "      <td>0.500000</td>\n",
       "      <td>0.004000</td>\n",
       "      <td>36.000000</td>\n",
       "      <td>20.000000</td>\n",
       "    </tr>\n",
       "    <tr>\n",
       "      <th>75%</th>\n",
       "      <td>2.019100e+07</td>\n",
       "      <td>0.041000</td>\n",
       "      <td>0.032000</td>\n",
       "      <td>0.700000</td>\n",
       "      <td>0.005000</td>\n",
       "      <td>52.000000</td>\n",
       "      <td>29.000000</td>\n",
       "    </tr>\n",
       "    <tr>\n",
       "      <th>max</th>\n",
       "      <td>2.019123e+07</td>\n",
       "      <td>0.138000</td>\n",
       "      <td>0.204000</td>\n",
       "      <td>8.000000</td>\n",
       "      <td>0.055000</td>\n",
       "      <td>240.000000</td>\n",
       "      <td>155.000000</td>\n",
       "    </tr>\n",
       "  </tbody>\n",
       "</table>\n",
       "</div>"
      ],
      "text/plain": [
       "               측정일시  이산화질소농도(ppm)     오존농도(ppm)  이산화탄소농도(ppm)    아황산가스(ppm)  \\\n",
       "count  1.707500e+04  16601.000000  16673.000000  16585.000000  16607.000000   \n",
       "mean   2.019068e+07      0.030693      0.023464      0.564420      0.004024   \n",
       "std    3.427564e+02      0.015226      0.013402      0.268259      0.001365   \n",
       "min    2.019010e+07      0.000000      0.000000      0.100000      0.001000   \n",
       "25%    2.019041e+07      0.019000      0.013000      0.400000      0.003000   \n",
       "50%    2.019071e+07      0.029000      0.022000      0.500000      0.004000   \n",
       "75%    2.019100e+07      0.041000      0.032000      0.700000      0.005000   \n",
       "max    2.019123e+07      0.138000      0.204000      8.000000      0.055000   \n",
       "\n",
       "          미세먼지(㎍/㎥)    초미세먼지(㎍/㎥)  \n",
       "count  16488.000000  16492.000000  \n",
       "mean      42.145864     24.508246  \n",
       "std       26.724031     18.416284  \n",
       "min        3.000000      1.000000  \n",
       "25%       25.000000     13.000000  \n",
       "50%       36.000000     20.000000  \n",
       "75%       52.000000     29.000000  \n",
       "max      240.000000    155.000000  "
      ]
     },
     "execution_count": 13,
     "metadata": {},
     "output_type": "execute_result"
    }
   ],
   "source": [
    "CT.describe()"
   ]
  },
  {
   "cell_type": "code",
   "execution_count": 20,
   "metadata": {},
   "outputs": [
    {
     "data": {
      "text/plain": [
       "36.0"
      ]
     },
     "execution_count": 20,
     "metadata": {},
     "output_type": "execute_result"
    }
   ],
   "source": [
    "CT['미세먼지(㎍/㎥)'].median()"
   ]
  },
  {
   "cell_type": "code",
   "execution_count": 22,
   "metadata": {},
   "outputs": [
    {
     "data": {
      "text/html": [
       "<div>\n",
       "<style scoped>\n",
       "    .dataframe tbody tr th:only-of-type {\n",
       "        vertical-align: middle;\n",
       "    }\n",
       "\n",
       "    .dataframe tbody tr th {\n",
       "        vertical-align: top;\n",
       "    }\n",
       "\n",
       "    .dataframe thead th {\n",
       "        text-align: right;\n",
       "    }\n",
       "</style>\n",
       "<table border=\"1\" class=\"dataframe\">\n",
       "  <thead>\n",
       "    <tr style=\"text-align: right;\">\n",
       "      <th></th>\n",
       "      <th>측정일시</th>\n",
       "      <th>이산화질소농도(ppm)</th>\n",
       "      <th>오존농도(ppm)</th>\n",
       "      <th>이산화탄소농도(ppm)</th>\n",
       "      <th>아황산가스(ppm)</th>\n",
       "      <th>미세먼지(㎍/㎥)</th>\n",
       "      <th>초미세먼지(㎍/㎥)</th>\n",
       "    </tr>\n",
       "  </thead>\n",
       "  <tbody>\n",
       "    <tr>\n",
       "      <th>측정일시</th>\n",
       "      <td>1.000000</td>\n",
       "      <td>-0.184237</td>\n",
       "      <td>-0.164888</td>\n",
       "      <td>-0.182061</td>\n",
       "      <td>-0.382507</td>\n",
       "      <td>-0.385808</td>\n",
       "      <td>-0.345193</td>\n",
       "    </tr>\n",
       "    <tr>\n",
       "      <th>이산화질소농도(ppm)</th>\n",
       "      <td>-0.184237</td>\n",
       "      <td>1.000000</td>\n",
       "      <td>-0.405255</td>\n",
       "      <td>0.490480</td>\n",
       "      <td>0.373314</td>\n",
       "      <td>0.495972</td>\n",
       "      <td>0.475063</td>\n",
       "    </tr>\n",
       "    <tr>\n",
       "      <th>오존농도(ppm)</th>\n",
       "      <td>-0.164888</td>\n",
       "      <td>-0.405255</td>\n",
       "      <td>1.000000</td>\n",
       "      <td>-0.284407</td>\n",
       "      <td>-0.028025</td>\n",
       "      <td>-0.032970</td>\n",
       "      <td>-0.017867</td>\n",
       "    </tr>\n",
       "    <tr>\n",
       "      <th>이산화탄소농도(ppm)</th>\n",
       "      <td>-0.182061</td>\n",
       "      <td>0.490480</td>\n",
       "      <td>-0.284407</td>\n",
       "      <td>1.000000</td>\n",
       "      <td>0.333302</td>\n",
       "      <td>0.554448</td>\n",
       "      <td>0.560114</td>\n",
       "    </tr>\n",
       "    <tr>\n",
       "      <th>아황산가스(ppm)</th>\n",
       "      <td>-0.382507</td>\n",
       "      <td>0.373314</td>\n",
       "      <td>-0.028025</td>\n",
       "      <td>0.333302</td>\n",
       "      <td>1.000000</td>\n",
       "      <td>0.406920</td>\n",
       "      <td>0.387055</td>\n",
       "    </tr>\n",
       "    <tr>\n",
       "      <th>미세먼지(㎍/㎥)</th>\n",
       "      <td>-0.385808</td>\n",
       "      <td>0.495972</td>\n",
       "      <td>-0.032970</td>\n",
       "      <td>0.554448</td>\n",
       "      <td>0.406920</td>\n",
       "      <td>1.000000</td>\n",
       "      <td>0.897629</td>\n",
       "    </tr>\n",
       "    <tr>\n",
       "      <th>초미세먼지(㎍/㎥)</th>\n",
       "      <td>-0.345193</td>\n",
       "      <td>0.475063</td>\n",
       "      <td>-0.017867</td>\n",
       "      <td>0.560114</td>\n",
       "      <td>0.387055</td>\n",
       "      <td>0.897629</td>\n",
       "      <td>1.000000</td>\n",
       "    </tr>\n",
       "  </tbody>\n",
       "</table>\n",
       "</div>"
      ],
      "text/plain": [
       "                  측정일시  이산화질소농도(ppm)  오존농도(ppm)  이산화탄소농도(ppm)  아황산가스(ppm)  \\\n",
       "측정일시          1.000000     -0.184237  -0.164888     -0.182061   -0.382507   \n",
       "이산화질소농도(ppm) -0.184237      1.000000  -0.405255      0.490480    0.373314   \n",
       "오존농도(ppm)    -0.164888     -0.405255   1.000000     -0.284407   -0.028025   \n",
       "이산화탄소농도(ppm) -0.182061      0.490480  -0.284407      1.000000    0.333302   \n",
       "아황산가스(ppm)   -0.382507      0.373314  -0.028025      0.333302    1.000000   \n",
       "미세먼지(㎍/㎥)    -0.385808      0.495972  -0.032970      0.554448    0.406920   \n",
       "초미세먼지(㎍/㎥)   -0.345193      0.475063  -0.017867      0.560114    0.387055   \n",
       "\n",
       "              미세먼지(㎍/㎥)  초미세먼지(㎍/㎥)  \n",
       "측정일시          -0.385808   -0.345193  \n",
       "이산화질소농도(ppm)   0.495972    0.475063  \n",
       "오존농도(ppm)     -0.032970   -0.017867  \n",
       "이산화탄소농도(ppm)   0.554448    0.560114  \n",
       "아황산가스(ppm)     0.406920    0.387055  \n",
       "미세먼지(㎍/㎥)      1.000000    0.897629  \n",
       "초미세먼지(㎍/㎥)     0.897629    1.000000  "
      ]
     },
     "execution_count": 22,
     "metadata": {},
     "output_type": "execute_result"
    }
   ],
   "source": [
    "CT.corr()"
   ]
  },
  {
   "cell_type": "code",
   "execution_count": 36,
   "metadata": {},
   "outputs": [
    {
     "data": {
      "text/plain": [
       "<matplotlib.axes._subplots.AxesSubplot at 0x1f5ef7528c8>"
      ]
     },
     "execution_count": 36,
     "metadata": {},
     "output_type": "execute_result"
    },
    {
     "data": {
      "image/png": "[encoded data removed]",
      "text/plain": [
       "<Figure size 432x288 with 1 Axes>"
      ]
     },
     "metadata": {
      "needs_background": "light"
     },
     "output_type": "display_data"
    }
   ],
   "source": [
    "a = CT.iloc[0:30, 5:]\n",
    "a.plot(kind='bar')"
   ]
  },
  {
   "cell_type": "code",
   "execution_count": 38,
   "metadata": {},
   "outputs": [
    {
     "data": {
      "text/plain": [
       "<matplotlib.axes._subplots.AxesSubplot at 0x1f5ef862208>"
      ]
     },
     "execution_count": 38,
     "metadata": {},
     "output_type": "execute_result"
    },
    {
     "data": {
      "image/png": "[encoded data removed]",
      "text/plain": [
       "<Figure size 432x288 with 1 Axes>"
      ]
     },
     "metadata": {
      "needs_background": "light"
     },
     "output_type": "display_data"
    }
   ],
   "source": [
    "a.plot(kind='hist')"
   ]
  }
 ],
 "metadata": {
  "kernelspec": {
   "display_name": "Python 3",
   "language": "python",
   "name": "python3"
  },
  "language_info": {
   "codemirror_mode": {
    "name": "ipython",
    "version": 3
   },
   "file_extension": ".py",
   "mimetype": "text/x-python",
   "name": "python",
   "nbconvert_exporter": "python",
   "pygments_lexer": "ipython3",
   "version": "3.7.6"
  }
 },
 "nbformat": 4,
 "nbformat_minor": 4
}
